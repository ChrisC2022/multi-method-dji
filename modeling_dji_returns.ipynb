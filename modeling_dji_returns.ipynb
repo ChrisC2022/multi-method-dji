{
 "cells": [
  {
   "cell_type": "markdown",
   "metadata": {},
   "source": [
    "## Identifying a Dataset"
   ]
  },
  {
   "cell_type": "code",
   "execution_count": null,
   "metadata": {},
   "outputs": [],
   "source": [
    "\"\"\"\n",
    "Downloading a dataset that contains weekly data for the Dow Jones Industrial Index.\n",
    "Citation:\n",
    "Brown,Michael. (2014). Dow Jones Index. UCI Machine Learning Repository. https://doi.org/10.24432/C5788V.\n",
    "@misc{misc_dow_jones_index_312,\n",
    "  author       = {Brown,Michael},\n",
    "  title        = {{Dow Jones Index}},\n",
    "  year         = {2014},\n",
    "  howpublished = {UCI Machine Learning Repository},\n",
    "  note         = {{DOI}: https://doi.org/10.24432/C5788V}\n",
    "}\n",
    "\"\"\""
   ]
  },
  {
   "cell_type": "markdown",
   "metadata": {},
   "source": [
    "## Identifying the Topic and Goal\n",
    "\n",
    "**Project Topic:** Exploring weekly data from the Dow Jones to establish relationships between changes in stock prices and other inputs.\n",
    "\n",
    "**Project Goal:** The goal of the project is to find the best of a selected set of supervised learning methods to predict the percentage change in a stock's price from one week to the next.\n",
    "\n",
    "**Data (Source and Description):** Weekly data from the Dow Jones Industrial Index. \n",
    "\n",
    "Citation:\n",
    "\n",
    "Brown,Michael. (2014). Dow Jones Index. UCI Machine Learning Repository. https://doi.org/10.24432/C5788V.\n",
    "\n",
    "@misc{misc_dow_jones_index_312,\n",
    "\n",
    "  author       = {Brown,Michael},\n",
    "  \n",
    "  title        = {{Dow Jones Index}},\n",
    "  \n",
    "  year         = {2014},\n",
    "  \n",
    "  howpublished = {UCI Machine Learning Repository},\n",
    "  \n",
    "  note         = {{DOI}: https://doi.org/10.24432/C5788V}\n",
    "  \n",
    "}\n",
    "\n",
    "The data was downloaded here: https://archive.ics.uci.edu/dataset/312/dow+jones+index\n",
    "\n",
    "This dataset has $750$ observations and $16$ features.\n",
    "\n",
    "This response variable was explicitly identified by the authors/contributors of the dataset as:\n",
    "*percent_change_next_weeks_price*."
   ]
  },
  {
   "cell_type": "markdown",
   "metadata": {},
   "source": [
    "## Cleaning and EDA"
   ]
  },
  {
   "cell_type": "code",
   "execution_count": null,
   "metadata": {},
   "outputs": [],
   "source": [
    "#Checking the location of the local directory for my Jupyter notebook to download data in the proper place\n",
    "import os\n",
    "os.getcwd()"
   ]
  },
  {
   "cell_type": "code",
   "execution_count": 3,
   "metadata": {},
   "outputs": [],
   "source": [
    "#Importing necessary packages\n",
    "import scipy as sp\n",
    "import scipy.stats as stats\n",
    "import pandas as pd\n",
    "import numpy as np\n",
    "import matplotlib.pyplot as plt\n",
    "import seaborn as sns\n",
    "import statsmodels.formula.api as smf\n",
    "from sklearn.linear_model import LogisticRegression\n",
    "from sklearn.metrics import roc_auc_score\n",
    "from sklearn.metrics import roc_curve\n",
    "from sklearn.metrics import accuracy_score\n",
    "from sklearn.metrics import precision_score\n",
    "from sklearn.metrics import recall_score\n",
    "from sklearn.model_selection import train_test_split"
   ]
  },
  {
   "cell_type": "code",
   "execution_count": 4,
   "metadata": {},
   "outputs": [],
   "source": [
    "file_path = \"~\\\\dow_jones_index.data\"\n",
    "#Based on a quick visual inspection through notepad, this file appears to be comma-delimited\n",
    "dji_data = pd.read_csv(file_path, delimiter = \",\")"
   ]
  },
  {
   "cell_type": "markdown",
   "metadata": {},
   "source": [
    "**Data Cleaning**"
   ]
  },
  {
   "cell_type": "markdown",
   "metadata": {},
   "source": [
    "***Inspecting the Data***"
   ]
  },
  {
   "cell_type": "code",
   "execution_count": 5,
   "metadata": {},
   "outputs": [
    {
     "data": {
      "text/html": [
       "<div>\n",
       "<style scoped>\n",
       "    .dataframe tbody tr th:only-of-type {\n",
       "        vertical-align: middle;\n",
       "    }\n",
       "\n",
       "    .dataframe tbody tr th {\n",
       "        vertical-align: top;\n",
       "    }\n",
       "\n",
       "    .dataframe thead th {\n",
       "        text-align: right;\n",
       "    }\n",
       "</style>\n",
       "<table border=\"1\" class=\"dataframe\">\n",
       "  <thead>\n",
       "    <tr style=\"text-align: right;\">\n",
       "      <th></th>\n",
       "      <th>quarter</th>\n",
       "      <th>stock</th>\n",
       "      <th>date</th>\n",
       "      <th>open</th>\n",
       "      <th>high</th>\n",
       "      <th>low</th>\n",
       "      <th>close</th>\n",
       "      <th>volume</th>\n",
       "      <th>percent_change_price</th>\n",
       "      <th>percent_change_volume_over_last_wk</th>\n",
       "      <th>previous_weeks_volume</th>\n",
       "      <th>next_weeks_open</th>\n",
       "      <th>next_weeks_close</th>\n",
       "      <th>percent_change_next_weeks_price</th>\n",
       "      <th>days_to_next_dividend</th>\n",
       "      <th>percent_return_next_dividend</th>\n",
       "    </tr>\n",
       "  </thead>\n",
       "  <tbody>\n",
       "    <tr>\n",
       "      <th>0</th>\n",
       "      <td>1</td>\n",
       "      <td>AA</td>\n",
       "      <td>1/7/2011</td>\n",
       "      <td>$15.82</td>\n",
       "      <td>$16.72</td>\n",
       "      <td>$15.78</td>\n",
       "      <td>$16.42</td>\n",
       "      <td>239655616</td>\n",
       "      <td>3.79267</td>\n",
       "      <td>NaN</td>\n",
       "      <td>NaN</td>\n",
       "      <td>$16.71</td>\n",
       "      <td>$15.97</td>\n",
       "      <td>-4.428490</td>\n",
       "      <td>26</td>\n",
       "      <td>0.182704</td>\n",
       "    </tr>\n",
       "    <tr>\n",
       "      <th>1</th>\n",
       "      <td>1</td>\n",
       "      <td>AA</td>\n",
       "      <td>1/14/2011</td>\n",
       "      <td>$16.71</td>\n",
       "      <td>$16.71</td>\n",
       "      <td>$15.64</td>\n",
       "      <td>$15.97</td>\n",
       "      <td>242963398</td>\n",
       "      <td>-4.42849</td>\n",
       "      <td>1.380223</td>\n",
       "      <td>239655616.0</td>\n",
       "      <td>$16.19</td>\n",
       "      <td>$15.79</td>\n",
       "      <td>-2.470660</td>\n",
       "      <td>19</td>\n",
       "      <td>0.187852</td>\n",
       "    </tr>\n",
       "    <tr>\n",
       "      <th>2</th>\n",
       "      <td>1</td>\n",
       "      <td>AA</td>\n",
       "      <td>1/21/2011</td>\n",
       "      <td>$16.19</td>\n",
       "      <td>$16.38</td>\n",
       "      <td>$15.60</td>\n",
       "      <td>$15.79</td>\n",
       "      <td>138428495</td>\n",
       "      <td>-2.47066</td>\n",
       "      <td>-43.024959</td>\n",
       "      <td>242963398.0</td>\n",
       "      <td>$15.87</td>\n",
       "      <td>$16.13</td>\n",
       "      <td>1.638310</td>\n",
       "      <td>12</td>\n",
       "      <td>0.189994</td>\n",
       "    </tr>\n",
       "    <tr>\n",
       "      <th>3</th>\n",
       "      <td>1</td>\n",
       "      <td>AA</td>\n",
       "      <td>1/28/2011</td>\n",
       "      <td>$15.87</td>\n",
       "      <td>$16.63</td>\n",
       "      <td>$15.82</td>\n",
       "      <td>$16.13</td>\n",
       "      <td>151379173</td>\n",
       "      <td>1.63831</td>\n",
       "      <td>9.355500</td>\n",
       "      <td>138428495.0</td>\n",
       "      <td>$16.18</td>\n",
       "      <td>$17.14</td>\n",
       "      <td>5.933250</td>\n",
       "      <td>5</td>\n",
       "      <td>0.185989</td>\n",
       "    </tr>\n",
       "    <tr>\n",
       "      <th>4</th>\n",
       "      <td>1</td>\n",
       "      <td>AA</td>\n",
       "      <td>2/4/2011</td>\n",
       "      <td>$16.18</td>\n",
       "      <td>$17.39</td>\n",
       "      <td>$16.18</td>\n",
       "      <td>$17.14</td>\n",
       "      <td>154387761</td>\n",
       "      <td>5.93325</td>\n",
       "      <td>1.987452</td>\n",
       "      <td>151379173.0</td>\n",
       "      <td>$17.33</td>\n",
       "      <td>$17.37</td>\n",
       "      <td>0.230814</td>\n",
       "      <td>97</td>\n",
       "      <td>0.175029</td>\n",
       "    </tr>\n",
       "  </tbody>\n",
       "</table>\n",
       "</div>"
      ],
      "text/plain": [
       "   quarter stock       date    open    high     low   close     volume  \\\n",
       "0        1    AA   1/7/2011  $15.82  $16.72  $15.78  $16.42  239655616   \n",
       "1        1    AA  1/14/2011  $16.71  $16.71  $15.64  $15.97  242963398   \n",
       "2        1    AA  1/21/2011  $16.19  $16.38  $15.60  $15.79  138428495   \n",
       "3        1    AA  1/28/2011  $15.87  $16.63  $15.82  $16.13  151379173   \n",
       "4        1    AA   2/4/2011  $16.18  $17.39  $16.18  $17.14  154387761   \n",
       "\n",
       "   percent_change_price  percent_change_volume_over_last_wk  \\\n",
       "0               3.79267                                 NaN   \n",
       "1              -4.42849                            1.380223   \n",
       "2              -2.47066                          -43.024959   \n",
       "3               1.63831                            9.355500   \n",
       "4               5.93325                            1.987452   \n",
       "\n",
       "   previous_weeks_volume next_weeks_open next_weeks_close  \\\n",
       "0                    NaN          $16.71           $15.97   \n",
       "1            239655616.0          $16.19           $15.79   \n",
       "2            242963398.0          $15.87           $16.13   \n",
       "3            138428495.0          $16.18           $17.14   \n",
       "4            151379173.0          $17.33           $17.37   \n",
       "\n",
       "   percent_change_next_weeks_price  days_to_next_dividend  \\\n",
       "0                        -4.428490                     26   \n",
       "1                        -2.470660                     19   \n",
       "2                         1.638310                     12   \n",
       "3                         5.933250                      5   \n",
       "4                         0.230814                     97   \n",
       "\n",
       "   percent_return_next_dividend  \n",
       "0                      0.182704  \n",
       "1                      0.187852  \n",
       "2                      0.189994  \n",
       "3                      0.185989  \n",
       "4                      0.175029  "
      ]
     },
     "execution_count": 5,
     "metadata": {},
     "output_type": "execute_result"
    }
   ],
   "source": [
    "#Checking out the top few rows of data to see how everything loaded\n",
    "dji_data.head()"
   ]
  },
  {
   "cell_type": "code",
   "execution_count": 6,
   "metadata": {
    "scrolled": true
   },
   "outputs": [
    {
     "name": "stdout",
     "output_type": "stream",
     "text": [
      "<class 'pandas.core.frame.DataFrame'>\n",
      "RangeIndex: 750 entries, 0 to 749\n",
      "Data columns (total 16 columns):\n",
      " #   Column                              Non-Null Count  Dtype  \n",
      "---  ------                              --------------  -----  \n",
      " 0   quarter                             750 non-null    int64  \n",
      " 1   stock                               750 non-null    object \n",
      " 2   date                                750 non-null    object \n",
      " 3   open                                750 non-null    object \n",
      " 4   high                                750 non-null    object \n",
      " 5   low                                 750 non-null    object \n",
      " 6   close                               750 non-null    object \n",
      " 7   volume                              750 non-null    int64  \n",
      " 8   percent_change_price                750 non-null    float64\n",
      " 9   percent_change_volume_over_last_wk  720 non-null    float64\n",
      " 10  previous_weeks_volume               720 non-null    float64\n",
      " 11  next_weeks_open                     750 non-null    object \n",
      " 12  next_weeks_close                    750 non-null    object \n",
      " 13  percent_change_next_weeks_price     750 non-null    float64\n",
      " 14  days_to_next_dividend               750 non-null    int64  \n",
      " 15  percent_return_next_dividend        750 non-null    float64\n",
      "dtypes: float64(5), int64(3), object(8)\n",
      "memory usage: 93.9+ KB\n"
     ]
    }
   ],
   "source": [
    "dji_data.info()"
   ]
  },
  {
   "cell_type": "code",
   "execution_count": 9,
   "metadata": {},
   "outputs": [
    {
     "name": "stdout",
     "output_type": "stream",
     "text": [
      "Earliest financial quarter: 1 , and latest quarter: 2\n"
     ]
    }
   ],
   "source": [
    "print('Earliest financial quarter:', dji_data.quarter.min(), ', and latest quarter:', dji_data.quarter.max())"
   ]
  },
  {
   "cell_type": "code",
   "execution_count": 10,
   "metadata": {},
   "outputs": [
    {
     "name": "stdout",
     "output_type": "stream",
     "text": [
      "quarter\n",
      "1    360\n",
      "2    390\n",
      "Name: stock, dtype: int64\n"
     ]
    }
   ],
   "source": [
    "#Checking the number of observations in each quarter to ensure I'll have a balance for training and testing\n",
    "print(dji_data.groupby('quarter')['stock'].count())"
   ]
  },
  {
   "cell_type": "markdown",
   "metadata": {},
   "source": [
    "### Priorities for Initial Cleaning and Organization\n",
    "\n",
    "This dataset has $750$ observations and $16$ variables. The response variable for this model\n",
    "(what we want to test) is *percent_change_next_weeks_price*; that leaves $15$ observations.\n",
    "As seasons might play a role, I'm going to follow a procedure I've seen followed elsewhere in financial/economic returns\n",
    "and treat the quarters as distinct training/testing units. I'll use quarter $1$ for training and quarter $2$ for testing.\n",
    "\n",
    "Note: I'm uncomfortable with having a balance in favor of testing. The reason I'm pursuing this split anyway is because I would assume financial trends to flow forward, i.e., the effect of variables should establish themselves in time and either strengthen or diminish accordingly. It doesn't make intuitive sense to me to use the quarter with the higher number of observations (quarter $2$) to train the model and then test the model on an earlier time period.\n",
    "\n",
    "Using the quarters to differentiate training vs. testing sets leaves us with $14$ additional dependent variables about which to make decisions. I'll work through those now."
   ]
  },
  {
   "cell_type": "markdown",
   "metadata": {},
   "source": [
    "*Data type* ***munging*** is necessary for 'stock', 'date', and the financial columns. I'll perform that now."
   ]
  },
  {
   "cell_type": "code",
   "execution_count": 11,
   "metadata": {},
   "outputs": [
    {
     "name": "stdout",
     "output_type": "stream",
     "text": [
      "<class 'pandas.core.frame.DataFrame'>\n",
      "RangeIndex: 750 entries, 0 to 749\n",
      "Data columns (total 16 columns):\n",
      " #   Column                              Non-Null Count  Dtype         \n",
      "---  ------                              --------------  -----         \n",
      " 0   quarter                             750 non-null    int64         \n",
      " 1   stock                               750 non-null    category      \n",
      " 2   date                                750 non-null    datetime64[ns]\n",
      " 3   open                                750 non-null    float64       \n",
      " 4   high                                750 non-null    float64       \n",
      " 5   low                                 750 non-null    float64       \n",
      " 6   close                               750 non-null    float64       \n",
      " 7   volume                              750 non-null    int64         \n",
      " 8   percent_change_price                750 non-null    float64       \n",
      " 9   percent_change_volume_over_last_wk  720 non-null    float64       \n",
      " 10  previous_weeks_volume               720 non-null    float64       \n",
      " 11  next_weeks_open                     750 non-null    float64       \n",
      " 12  next_weeks_close                    750 non-null    float64       \n",
      " 13  percent_change_next_weeks_price     750 non-null    float64       \n",
      " 14  days_to_next_dividend               750 non-null    int64         \n",
      " 15  percent_return_next_dividend        750 non-null    float64       \n",
      "dtypes: category(1), datetime64[ns](1), float64(11), int64(3)\n",
      "memory usage: 90.2 KB\n"
     ]
    }
   ],
   "source": [
    "#Changing the data types.\n",
    "#'stock' should be a factor.\n",
    "#'date' should be a datetype.\n",
    "#'open', 'high', 'low', 'close', 'next_weeks_open', and 'next_weeks_close' should be numeric.\n",
    "\n",
    "dji_data['stock'] = dji_data['stock'].astype('category')\n",
    "dji_data['date'] = pd.to_datetime(dji_data['date'])\n",
    "\n",
    "#Need to remove the '$' to convert the columns with currency values to numeric\n",
    "dji_data[dji_data.columns[3:7]] = dji_data[dji_data.columns[3:7]].replace('[\\$,]', '', regex = True).astype(float)\n",
    "dji_data[dji_data.columns[11:13]] = dji_data[dji_data.columns[11:13]].replace('[\\$,]', '', regex = True).astype(float)\n",
    "\n",
    "dji_data.info()"
   ]
  },
  {
   "cell_type": "code",
   "execution_count": 12,
   "metadata": {},
   "outputs": [
    {
     "data": {
      "text/html": [
       "<div>\n",
       "<style scoped>\n",
       "    .dataframe tbody tr th:only-of-type {\n",
       "        vertical-align: middle;\n",
       "    }\n",
       "\n",
       "    .dataframe tbody tr th {\n",
       "        vertical-align: top;\n",
       "    }\n",
       "\n",
       "    .dataframe thead th {\n",
       "        text-align: right;\n",
       "    }\n",
       "</style>\n",
       "<table border=\"1\" class=\"dataframe\">\n",
       "  <thead>\n",
       "    <tr style=\"text-align: right;\">\n",
       "      <th></th>\n",
       "      <th>quarter</th>\n",
       "      <th>open</th>\n",
       "      <th>high</th>\n",
       "      <th>low</th>\n",
       "      <th>close</th>\n",
       "      <th>volume</th>\n",
       "      <th>percent_change_price</th>\n",
       "      <th>percent_change_volume_over_last_wk</th>\n",
       "      <th>previous_weeks_volume</th>\n",
       "      <th>next_weeks_open</th>\n",
       "      <th>next_weeks_close</th>\n",
       "      <th>percent_change_next_weeks_price</th>\n",
       "      <th>days_to_next_dividend</th>\n",
       "      <th>percent_return_next_dividend</th>\n",
       "    </tr>\n",
       "  </thead>\n",
       "  <tbody>\n",
       "    <tr>\n",
       "      <th>count</th>\n",
       "      <td>750.000000</td>\n",
       "      <td>750.000000</td>\n",
       "      <td>750.000000</td>\n",
       "      <td>750.000000</td>\n",
       "      <td>750.000000</td>\n",
       "      <td>7.500000e+02</td>\n",
       "      <td>750.000000</td>\n",
       "      <td>720.000000</td>\n",
       "      <td>7.200000e+02</td>\n",
       "      <td>750.000000</td>\n",
       "      <td>750.000000</td>\n",
       "      <td>750.000000</td>\n",
       "      <td>750.000000</td>\n",
       "      <td>750.000000</td>\n",
       "    </tr>\n",
       "    <tr>\n",
       "      <th>mean</th>\n",
       "      <td>1.520000</td>\n",
       "      <td>53.651840</td>\n",
       "      <td>54.669987</td>\n",
       "      <td>52.640160</td>\n",
       "      <td>53.729267</td>\n",
       "      <td>1.175478e+08</td>\n",
       "      <td>0.050262</td>\n",
       "      <td>5.593627</td>\n",
       "      <td>1.173876e+08</td>\n",
       "      <td>53.702440</td>\n",
       "      <td>53.889080</td>\n",
       "      <td>0.238468</td>\n",
       "      <td>52.525333</td>\n",
       "      <td>0.691826</td>\n",
       "    </tr>\n",
       "    <tr>\n",
       "      <th>std</th>\n",
       "      <td>0.499933</td>\n",
       "      <td>32.638852</td>\n",
       "      <td>33.215994</td>\n",
       "      <td>32.119277</td>\n",
       "      <td>32.788787</td>\n",
       "      <td>1.584381e+08</td>\n",
       "      <td>2.517809</td>\n",
       "      <td>40.543478</td>\n",
       "      <td>1.592322e+08</td>\n",
       "      <td>32.778111</td>\n",
       "      <td>33.016677</td>\n",
       "      <td>2.679538</td>\n",
       "      <td>46.335098</td>\n",
       "      <td>0.305482</td>\n",
       "    </tr>\n",
       "    <tr>\n",
       "      <th>min</th>\n",
       "      <td>1.000000</td>\n",
       "      <td>10.590000</td>\n",
       "      <td>10.940000</td>\n",
       "      <td>10.400000</td>\n",
       "      <td>10.520000</td>\n",
       "      <td>9.718851e+06</td>\n",
       "      <td>-15.422900</td>\n",
       "      <td>-61.433175</td>\n",
       "      <td>9.718851e+06</td>\n",
       "      <td>10.520000</td>\n",
       "      <td>10.520000</td>\n",
       "      <td>-15.422900</td>\n",
       "      <td>0.000000</td>\n",
       "      <td>0.065574</td>\n",
       "    </tr>\n",
       "    <tr>\n",
       "      <th>25%</th>\n",
       "      <td>1.000000</td>\n",
       "      <td>29.830000</td>\n",
       "      <td>30.627500</td>\n",
       "      <td>28.720000</td>\n",
       "      <td>30.365000</td>\n",
       "      <td>3.086624e+07</td>\n",
       "      <td>-1.288053</td>\n",
       "      <td>-19.804284</td>\n",
       "      <td>3.067832e+07</td>\n",
       "      <td>30.315000</td>\n",
       "      <td>30.462500</td>\n",
       "      <td>-1.222067</td>\n",
       "      <td>24.000000</td>\n",
       "      <td>0.534549</td>\n",
       "    </tr>\n",
       "    <tr>\n",
       "      <th>50%</th>\n",
       "      <td>2.000000</td>\n",
       "      <td>45.970000</td>\n",
       "      <td>46.885000</td>\n",
       "      <td>44.800000</td>\n",
       "      <td>45.930000</td>\n",
       "      <td>5.306088e+07</td>\n",
       "      <td>0.000000</td>\n",
       "      <td>0.512586</td>\n",
       "      <td>5.294556e+07</td>\n",
       "      <td>46.015000</td>\n",
       "      <td>46.125000</td>\n",
       "      <td>0.101193</td>\n",
       "      <td>47.000000</td>\n",
       "      <td>0.681067</td>\n",
       "    </tr>\n",
       "    <tr>\n",
       "      <th>75%</th>\n",
       "      <td>2.000000</td>\n",
       "      <td>72.715000</td>\n",
       "      <td>74.287500</td>\n",
       "      <td>71.037500</td>\n",
       "      <td>72.667500</td>\n",
       "      <td>1.327218e+08</td>\n",
       "      <td>1.650888</td>\n",
       "      <td>21.800622</td>\n",
       "      <td>1.333230e+08</td>\n",
       "      <td>72.715000</td>\n",
       "      <td>72.915000</td>\n",
       "      <td>1.845562</td>\n",
       "      <td>69.000000</td>\n",
       "      <td>0.854291</td>\n",
       "    </tr>\n",
       "    <tr>\n",
       "      <th>max</th>\n",
       "      <td>2.000000</td>\n",
       "      <td>172.110000</td>\n",
       "      <td>173.540000</td>\n",
       "      <td>167.820000</td>\n",
       "      <td>170.580000</td>\n",
       "      <td>1.453439e+09</td>\n",
       "      <td>9.882230</td>\n",
       "      <td>327.408924</td>\n",
       "      <td>1.453439e+09</td>\n",
       "      <td>172.110000</td>\n",
       "      <td>174.540000</td>\n",
       "      <td>9.882230</td>\n",
       "      <td>336.000000</td>\n",
       "      <td>1.564210</td>\n",
       "    </tr>\n",
       "  </tbody>\n",
       "</table>\n",
       "</div>"
      ],
      "text/plain": [
       "          quarter        open        high         low       close  \\\n",
       "count  750.000000  750.000000  750.000000  750.000000  750.000000   \n",
       "mean     1.520000   53.651840   54.669987   52.640160   53.729267   \n",
       "std      0.499933   32.638852   33.215994   32.119277   32.788787   \n",
       "min      1.000000   10.590000   10.940000   10.400000   10.520000   \n",
       "25%      1.000000   29.830000   30.627500   28.720000   30.365000   \n",
       "50%      2.000000   45.970000   46.885000   44.800000   45.930000   \n",
       "75%      2.000000   72.715000   74.287500   71.037500   72.667500   \n",
       "max      2.000000  172.110000  173.540000  167.820000  170.580000   \n",
       "\n",
       "             volume  percent_change_price  percent_change_volume_over_last_wk  \\\n",
       "count  7.500000e+02            750.000000                          720.000000   \n",
       "mean   1.175478e+08              0.050262                            5.593627   \n",
       "std    1.584381e+08              2.517809                           40.543478   \n",
       "min    9.718851e+06            -15.422900                          -61.433175   \n",
       "25%    3.086624e+07             -1.288053                          -19.804284   \n",
       "50%    5.306088e+07              0.000000                            0.512586   \n",
       "75%    1.327218e+08              1.650888                           21.800622   \n",
       "max    1.453439e+09              9.882230                          327.408924   \n",
       "\n",
       "       previous_weeks_volume  next_weeks_open  next_weeks_close  \\\n",
       "count           7.200000e+02       750.000000        750.000000   \n",
       "mean            1.173876e+08        53.702440         53.889080   \n",
       "std             1.592322e+08        32.778111         33.016677   \n",
       "min             9.718851e+06        10.520000         10.520000   \n",
       "25%             3.067832e+07        30.315000         30.462500   \n",
       "50%             5.294556e+07        46.015000         46.125000   \n",
       "75%             1.333230e+08        72.715000         72.915000   \n",
       "max             1.453439e+09       172.110000        174.540000   \n",
       "\n",
       "       percent_change_next_weeks_price  days_to_next_dividend  \\\n",
       "count                       750.000000             750.000000   \n",
       "mean                          0.238468              52.525333   \n",
       "std                           2.679538              46.335098   \n",
       "min                         -15.422900               0.000000   \n",
       "25%                          -1.222067              24.000000   \n",
       "50%                           0.101193              47.000000   \n",
       "75%                           1.845562              69.000000   \n",
       "max                           9.882230             336.000000   \n",
       "\n",
       "       percent_return_next_dividend  \n",
       "count                    750.000000  \n",
       "mean                       0.691826  \n",
       "std                        0.305482  \n",
       "min                        0.065574  \n",
       "25%                        0.534549  \n",
       "50%                        0.681067  \n",
       "75%                        0.854291  \n",
       "max                        1.564210  "
      ]
     },
     "execution_count": 12,
     "metadata": {},
     "output_type": "execute_result"
    }
   ],
   "source": [
    "#Investigating the data frame further to determine spot missing values and other analytical challenges\n",
    "dji_data.describe()"
   ]
  },
  {
   "cell_type": "code",
   "execution_count": 13,
   "metadata": {},
   "outputs": [
    {
     "data": {
      "text/plain": [
       "quarter                               False\n",
       "stock                                 False\n",
       "date                                  False\n",
       "open                                  False\n",
       "high                                  False\n",
       "low                                   False\n",
       "close                                 False\n",
       "volume                                False\n",
       "percent_change_price                  False\n",
       "percent_change_volume_over_last_wk     True\n",
       "previous_weeks_volume                  True\n",
       "next_weeks_open                       False\n",
       "next_weeks_close                      False\n",
       "percent_change_next_weeks_price       False\n",
       "days_to_next_dividend                 False\n",
       "percent_return_next_dividend          False\n",
       "dtype: bool"
      ]
     },
     "execution_count": 13,
     "metadata": {},
     "output_type": "execute_result"
    }
   ],
   "source": [
    "#No obvious issues turned up using the summary statistics above; checking through for any missing/NA values to be sure\n",
    "dji_data.isnull().any()"
   ]
  },
  {
   "cell_type": "code",
   "execution_count": 14,
   "metadata": {},
   "outputs": [
    {
     "data": {
      "text/html": [
       "<div>\n",
       "<style scoped>\n",
       "    .dataframe tbody tr th:only-of-type {\n",
       "        vertical-align: middle;\n",
       "    }\n",
       "\n",
       "    .dataframe tbody tr th {\n",
       "        vertical-align: top;\n",
       "    }\n",
       "\n",
       "    .dataframe thead th {\n",
       "        text-align: right;\n",
       "    }\n",
       "</style>\n",
       "<table border=\"1\" class=\"dataframe\">\n",
       "  <thead>\n",
       "    <tr style=\"text-align: right;\">\n",
       "      <th></th>\n",
       "      <th>quarter</th>\n",
       "      <th>stock</th>\n",
       "      <th>date</th>\n",
       "      <th>open</th>\n",
       "      <th>high</th>\n",
       "      <th>low</th>\n",
       "      <th>close</th>\n",
       "      <th>volume</th>\n",
       "      <th>percent_change_price</th>\n",
       "      <th>percent_change_volume_over_last_wk</th>\n",
       "      <th>previous_weeks_volume</th>\n",
       "      <th>next_weeks_open</th>\n",
       "      <th>next_weeks_close</th>\n",
       "      <th>percent_change_next_weeks_price</th>\n",
       "      <th>days_to_next_dividend</th>\n",
       "      <th>percent_return_next_dividend</th>\n",
       "    </tr>\n",
       "  </thead>\n",
       "  <tbody>\n",
       "    <tr>\n",
       "      <th>0</th>\n",
       "      <td>False</td>\n",
       "      <td>False</td>\n",
       "      <td>False</td>\n",
       "      <td>False</td>\n",
       "      <td>False</td>\n",
       "      <td>False</td>\n",
       "      <td>False</td>\n",
       "      <td>False</td>\n",
       "      <td>False</td>\n",
       "      <td>True</td>\n",
       "      <td>True</td>\n",
       "      <td>False</td>\n",
       "      <td>False</td>\n",
       "      <td>False</td>\n",
       "      <td>False</td>\n",
       "      <td>False</td>\n",
       "    </tr>\n",
       "    <tr>\n",
       "      <th>1</th>\n",
       "      <td>False</td>\n",
       "      <td>False</td>\n",
       "      <td>False</td>\n",
       "      <td>False</td>\n",
       "      <td>False</td>\n",
       "      <td>False</td>\n",
       "      <td>False</td>\n",
       "      <td>False</td>\n",
       "      <td>False</td>\n",
       "      <td>False</td>\n",
       "      <td>False</td>\n",
       "      <td>False</td>\n",
       "      <td>False</td>\n",
       "      <td>False</td>\n",
       "      <td>False</td>\n",
       "      <td>False</td>\n",
       "    </tr>\n",
       "    <tr>\n",
       "      <th>2</th>\n",
       "      <td>False</td>\n",
       "      <td>False</td>\n",
       "      <td>False</td>\n",
       "      <td>False</td>\n",
       "      <td>False</td>\n",
       "      <td>False</td>\n",
       "      <td>False</td>\n",
       "      <td>False</td>\n",
       "      <td>False</td>\n",
       "      <td>False</td>\n",
       "      <td>False</td>\n",
       "      <td>False</td>\n",
       "      <td>False</td>\n",
       "      <td>False</td>\n",
       "      <td>False</td>\n",
       "      <td>False</td>\n",
       "    </tr>\n",
       "    <tr>\n",
       "      <th>3</th>\n",
       "      <td>False</td>\n",
       "      <td>False</td>\n",
       "      <td>False</td>\n",
       "      <td>False</td>\n",
       "      <td>False</td>\n",
       "      <td>False</td>\n",
       "      <td>False</td>\n",
       "      <td>False</td>\n",
       "      <td>False</td>\n",
       "      <td>False</td>\n",
       "      <td>False</td>\n",
       "      <td>False</td>\n",
       "      <td>False</td>\n",
       "      <td>False</td>\n",
       "      <td>False</td>\n",
       "      <td>False</td>\n",
       "    </tr>\n",
       "    <tr>\n",
       "      <th>4</th>\n",
       "      <td>False</td>\n",
       "      <td>False</td>\n",
       "      <td>False</td>\n",
       "      <td>False</td>\n",
       "      <td>False</td>\n",
       "      <td>False</td>\n",
       "      <td>False</td>\n",
       "      <td>False</td>\n",
       "      <td>False</td>\n",
       "      <td>False</td>\n",
       "      <td>False</td>\n",
       "      <td>False</td>\n",
       "      <td>False</td>\n",
       "      <td>False</td>\n",
       "      <td>False</td>\n",
       "      <td>False</td>\n",
       "    </tr>\n",
       "    <tr>\n",
       "      <th>...</th>\n",
       "      <td>...</td>\n",
       "      <td>...</td>\n",
       "      <td>...</td>\n",
       "      <td>...</td>\n",
       "      <td>...</td>\n",
       "      <td>...</td>\n",
       "      <td>...</td>\n",
       "      <td>...</td>\n",
       "      <td>...</td>\n",
       "      <td>...</td>\n",
       "      <td>...</td>\n",
       "      <td>...</td>\n",
       "      <td>...</td>\n",
       "      <td>...</td>\n",
       "      <td>...</td>\n",
       "      <td>...</td>\n",
       "    </tr>\n",
       "    <tr>\n",
       "      <th>745</th>\n",
       "      <td>False</td>\n",
       "      <td>False</td>\n",
       "      <td>False</td>\n",
       "      <td>False</td>\n",
       "      <td>False</td>\n",
       "      <td>False</td>\n",
       "      <td>False</td>\n",
       "      <td>False</td>\n",
       "      <td>False</td>\n",
       "      <td>False</td>\n",
       "      <td>False</td>\n",
       "      <td>False</td>\n",
       "      <td>False</td>\n",
       "      <td>False</td>\n",
       "      <td>False</td>\n",
       "      <td>False</td>\n",
       "    </tr>\n",
       "    <tr>\n",
       "      <th>746</th>\n",
       "      <td>False</td>\n",
       "      <td>False</td>\n",
       "      <td>False</td>\n",
       "      <td>False</td>\n",
       "      <td>False</td>\n",
       "      <td>False</td>\n",
       "      <td>False</td>\n",
       "      <td>False</td>\n",
       "      <td>False</td>\n",
       "      <td>False</td>\n",
       "      <td>False</td>\n",
       "      <td>False</td>\n",
       "      <td>False</td>\n",
       "      <td>False</td>\n",
       "      <td>False</td>\n",
       "      <td>False</td>\n",
       "    </tr>\n",
       "    <tr>\n",
       "      <th>747</th>\n",
       "      <td>False</td>\n",
       "      <td>False</td>\n",
       "      <td>False</td>\n",
       "      <td>False</td>\n",
       "      <td>False</td>\n",
       "      <td>False</td>\n",
       "      <td>False</td>\n",
       "      <td>False</td>\n",
       "      <td>False</td>\n",
       "      <td>False</td>\n",
       "      <td>False</td>\n",
       "      <td>False</td>\n",
       "      <td>False</td>\n",
       "      <td>False</td>\n",
       "      <td>False</td>\n",
       "      <td>False</td>\n",
       "    </tr>\n",
       "    <tr>\n",
       "      <th>748</th>\n",
       "      <td>False</td>\n",
       "      <td>False</td>\n",
       "      <td>False</td>\n",
       "      <td>False</td>\n",
       "      <td>False</td>\n",
       "      <td>False</td>\n",
       "      <td>False</td>\n",
       "      <td>False</td>\n",
       "      <td>False</td>\n",
       "      <td>False</td>\n",
       "      <td>False</td>\n",
       "      <td>False</td>\n",
       "      <td>False</td>\n",
       "      <td>False</td>\n",
       "      <td>False</td>\n",
       "      <td>False</td>\n",
       "    </tr>\n",
       "    <tr>\n",
       "      <th>749</th>\n",
       "      <td>False</td>\n",
       "      <td>False</td>\n",
       "      <td>False</td>\n",
       "      <td>False</td>\n",
       "      <td>False</td>\n",
       "      <td>False</td>\n",
       "      <td>False</td>\n",
       "      <td>False</td>\n",
       "      <td>False</td>\n",
       "      <td>False</td>\n",
       "      <td>False</td>\n",
       "      <td>False</td>\n",
       "      <td>False</td>\n",
       "      <td>False</td>\n",
       "      <td>False</td>\n",
       "      <td>False</td>\n",
       "    </tr>\n",
       "  </tbody>\n",
       "</table>\n",
       "<p>750 rows × 16 columns</p>\n",
       "</div>"
      ],
      "text/plain": [
       "     quarter  stock   date   open   high    low  close  volume  \\\n",
       "0      False  False  False  False  False  False  False   False   \n",
       "1      False  False  False  False  False  False  False   False   \n",
       "2      False  False  False  False  False  False  False   False   \n",
       "3      False  False  False  False  False  False  False   False   \n",
       "4      False  False  False  False  False  False  False   False   \n",
       "..       ...    ...    ...    ...    ...    ...    ...     ...   \n",
       "745    False  False  False  False  False  False  False   False   \n",
       "746    False  False  False  False  False  False  False   False   \n",
       "747    False  False  False  False  False  False  False   False   \n",
       "748    False  False  False  False  False  False  False   False   \n",
       "749    False  False  False  False  False  False  False   False   \n",
       "\n",
       "     percent_change_price  percent_change_volume_over_last_wk  \\\n",
       "0                   False                                True   \n",
       "1                   False                               False   \n",
       "2                   False                               False   \n",
       "3                   False                               False   \n",
       "4                   False                               False   \n",
       "..                    ...                                 ...   \n",
       "745                 False                               False   \n",
       "746                 False                               False   \n",
       "747                 False                               False   \n",
       "748                 False                               False   \n",
       "749                 False                               False   \n",
       "\n",
       "     previous_weeks_volume  next_weeks_open  next_weeks_close  \\\n",
       "0                     True            False             False   \n",
       "1                    False            False             False   \n",
       "2                    False            False             False   \n",
       "3                    False            False             False   \n",
       "4                    False            False             False   \n",
       "..                     ...              ...               ...   \n",
       "745                  False            False             False   \n",
       "746                  False            False             False   \n",
       "747                  False            False             False   \n",
       "748                  False            False             False   \n",
       "749                  False            False             False   \n",
       "\n",
       "     percent_change_next_weeks_price  days_to_next_dividend  \\\n",
       "0                              False                  False   \n",
       "1                              False                  False   \n",
       "2                              False                  False   \n",
       "3                              False                  False   \n",
       "4                              False                  False   \n",
       "..                               ...                    ...   \n",
       "745                            False                  False   \n",
       "746                            False                  False   \n",
       "747                            False                  False   \n",
       "748                            False                  False   \n",
       "749                            False                  False   \n",
       "\n",
       "     percent_return_next_dividend  \n",
       "0                           False  \n",
       "1                           False  \n",
       "2                           False  \n",
       "3                           False  \n",
       "4                           False  \n",
       "..                            ...  \n",
       "745                         False  \n",
       "746                         False  \n",
       "747                         False  \n",
       "748                         False  \n",
       "749                         False  \n",
       "\n",
       "[750 rows x 16 columns]"
      ]
     },
     "execution_count": 14,
     "metadata": {},
     "output_type": "execute_result"
    }
   ],
   "source": [
    "#2 columns have NAs, so I'm going to look at them to decide what to do with them\n",
    "dji_data.isna()"
   ]
  },
  {
   "cell_type": "code",
   "execution_count": 15,
   "metadata": {},
   "outputs": [
    {
     "name": "stdout",
     "output_type": "stream",
     "text": [
      "The same observations have NAs in both columns: \n",
      " [0, 12, 24, 36, 48, 60, 72, 84, 96, 108, 120, 132, 144, 156, 168, 180, 192, 204, 216, 228, 240, 252, 264, 276, 288, 300, 312, 324, 336, 348]\n"
     ]
    }
   ],
   "source": [
    "same_obs = sum((dji_data[dji_data['percent_change_volume_over_last_wk'].isna()].index != \n",
    "     dji_data[dji_data['previous_weeks_volume'].isna()].index))\n",
    "if same_obs == 0:\n",
    "    obs_with_NA = dji_data[dji_data['percent_change_volume_over_last_wk'].isna()].index.to_list()\n",
    "    print('The same observations have NAs in both columns:', '\\n',obs_with_NA)"
   ]
  },
  {
   "cell_type": "markdown",
   "metadata": {},
   "source": [
    "How to treat these? As recent trends are widely believed to be reflected in asset values, I don't think they can be ignored.\n",
    "Neither do I think they should be imputed as I don't have a solid methodological/theoretical basis to 'assume'\n",
    "any particular values.\n",
    "I'm going to eliminate these values from the training data so as not to soften the value of recent volume.\n",
    "These values are clearly dependent on one another, so it makes sense to remove both."
   ]
  },
  {
   "cell_type": "code",
   "execution_count": 16,
   "metadata": {},
   "outputs": [],
   "source": [
    "#Removing NA observations\n",
    "dji_data.drop(obs_with_NA, axis = 0, inplace = True)"
   ]
  },
  {
   "cell_type": "code",
   "execution_count": 17,
   "metadata": {},
   "outputs": [
    {
     "name": "stdout",
     "output_type": "stream",
     "text": [
      "<class 'pandas.core.frame.DataFrame'>\n",
      "Int64Index: 720 entries, 1 to 749\n",
      "Data columns (total 16 columns):\n",
      " #   Column                              Non-Null Count  Dtype         \n",
      "---  ------                              --------------  -----         \n",
      " 0   quarter                             720 non-null    int64         \n",
      " 1   stock                               720 non-null    category      \n",
      " 2   date                                720 non-null    datetime64[ns]\n",
      " 3   open                                720 non-null    float64       \n",
      " 4   high                                720 non-null    float64       \n",
      " 5   low                                 720 non-null    float64       \n",
      " 6   close                               720 non-null    float64       \n",
      " 7   volume                              720 non-null    int64         \n",
      " 8   percent_change_price                720 non-null    float64       \n",
      " 9   percent_change_volume_over_last_wk  720 non-null    float64       \n",
      " 10  previous_weeks_volume               720 non-null    float64       \n",
      " 11  next_weeks_open                     720 non-null    float64       \n",
      " 12  next_weeks_close                    720 non-null    float64       \n",
      " 13  percent_change_next_weeks_price     720 non-null    float64       \n",
      " 14  days_to_next_dividend               720 non-null    int64         \n",
      " 15  percent_return_next_dividend        720 non-null    float64       \n",
      "dtypes: category(1), datetime64[ns](1), float64(11), int64(3)\n",
      "memory usage: 92.2 KB\n"
     ]
    }
   ],
   "source": [
    "dji_data.info()"
   ]
  },
  {
   "cell_type": "markdown",
   "metadata": {},
   "source": [
    "### Exploratory Data Analysis: Visualizations\n",
    "\n",
    "Time series data have intriguing issues related to correlation. I'm going to look for some of the most correlated variables."
   ]
  },
  {
   "cell_type": "code",
   "execution_count": 18,
   "metadata": {
    "scrolled": true
   },
   "outputs": [
    {
     "data": {
      "text/html": [
       "<div>\n",
       "<style scoped>\n",
       "    .dataframe tbody tr th:only-of-type {\n",
       "        vertical-align: middle;\n",
       "    }\n",
       "\n",
       "    .dataframe tbody tr th {\n",
       "        vertical-align: top;\n",
       "    }\n",
       "\n",
       "    .dataframe thead th {\n",
       "        text-align: right;\n",
       "    }\n",
       "</style>\n",
       "<table border=\"1\" class=\"dataframe\">\n",
       "  <thead>\n",
       "    <tr style=\"text-align: right;\">\n",
       "      <th></th>\n",
       "      <th>quarter</th>\n",
       "      <th>open</th>\n",
       "      <th>high</th>\n",
       "      <th>low</th>\n",
       "      <th>close</th>\n",
       "      <th>volume</th>\n",
       "      <th>percent_change_price</th>\n",
       "      <th>percent_change_volume_over_last_wk</th>\n",
       "      <th>previous_weeks_volume</th>\n",
       "      <th>next_weeks_open</th>\n",
       "      <th>next_weeks_close</th>\n",
       "      <th>percent_change_next_weeks_price</th>\n",
       "      <th>days_to_next_dividend</th>\n",
       "      <th>percent_return_next_dividend</th>\n",
       "    </tr>\n",
       "  </thead>\n",
       "  <tbody>\n",
       "    <tr>\n",
       "      <th>quarter</th>\n",
       "      <td>1.000000</td>\n",
       "      <td>0.023726</td>\n",
       "      <td>0.022625</td>\n",
       "      <td>0.022775</td>\n",
       "      <td>0.019811</td>\n",
       "      <td>-0.037889</td>\n",
       "      <td>-0.076259</td>\n",
       "      <td>0.023662</td>\n",
       "      <td>-0.057302</td>\n",
       "      <td>0.018354</td>\n",
       "      <td>0.017176</td>\n",
       "      <td>0.000098</td>\n",
       "      <td>-0.020749</td>\n",
       "      <td>-0.007963</td>\n",
       "    </tr>\n",
       "    <tr>\n",
       "      <th>open</th>\n",
       "      <td>0.023726</td>\n",
       "      <td>1.000000</td>\n",
       "      <td>0.999613</td>\n",
       "      <td>0.999339</td>\n",
       "      <td>0.999049</td>\n",
       "      <td>-0.522450</td>\n",
       "      <td>0.074321</td>\n",
       "      <td>-0.008510</td>\n",
       "      <td>-0.511910</td>\n",
       "      <td>0.998950</td>\n",
       "      <td>0.997774</td>\n",
       "      <td>0.066695</td>\n",
       "      <td>-0.059737</td>\n",
       "      <td>-0.147291</td>\n",
       "    </tr>\n",
       "    <tr>\n",
       "      <th>high</th>\n",
       "      <td>0.022625</td>\n",
       "      <td>0.999613</td>\n",
       "      <td>1.000000</td>\n",
       "      <td>0.999420</td>\n",
       "      <td>0.999555</td>\n",
       "      <td>-0.521307</td>\n",
       "      <td>0.091083</td>\n",
       "      <td>-0.006513</td>\n",
       "      <td>-0.511344</td>\n",
       "      <td>0.999476</td>\n",
       "      <td>0.998481</td>\n",
       "      <td>0.069589</td>\n",
       "      <td>-0.060586</td>\n",
       "      <td>-0.149462</td>\n",
       "    </tr>\n",
       "    <tr>\n",
       "      <th>low</th>\n",
       "      <td>0.022775</td>\n",
       "      <td>0.999339</td>\n",
       "      <td>0.999420</td>\n",
       "      <td>1.000000</td>\n",
       "      <td>0.999549</td>\n",
       "      <td>-0.524210</td>\n",
       "      <td>0.095997</td>\n",
       "      <td>-0.017541</td>\n",
       "      <td>-0.511540</td>\n",
       "      <td>0.999435</td>\n",
       "      <td>0.998299</td>\n",
       "      <td>0.067255</td>\n",
       "      <td>-0.060948</td>\n",
       "      <td>-0.144788</td>\n",
       "    </tr>\n",
       "    <tr>\n",
       "      <th>close</th>\n",
       "      <td>0.019811</td>\n",
       "      <td>0.999049</td>\n",
       "      <td>0.999555</td>\n",
       "      <td>0.999549</td>\n",
       "      <td>1.000000</td>\n",
       "      <td>-0.523935</td>\n",
       "      <td>0.110531</td>\n",
       "      <td>-0.016479</td>\n",
       "      <td>-0.511354</td>\n",
       "      <td>0.999917</td>\n",
       "      <td>0.998836</td>\n",
       "      <td>0.067789</td>\n",
       "      <td>-0.060981</td>\n",
       "      <td>-0.147205</td>\n",
       "    </tr>\n",
       "    <tr>\n",
       "      <th>volume</th>\n",
       "      <td>-0.037889</td>\n",
       "      <td>-0.522450</td>\n",
       "      <td>-0.521307</td>\n",
       "      <td>-0.524210</td>\n",
       "      <td>-0.523935</td>\n",
       "      <td>1.000000</td>\n",
       "      <td>-0.173245</td>\n",
       "      <td>0.181672</td>\n",
       "      <td>0.887631</td>\n",
       "      <td>-0.523710</td>\n",
       "      <td>-0.523208</td>\n",
       "      <td>-0.091106</td>\n",
       "      <td>-0.057734</td>\n",
       "      <td>-0.269797</td>\n",
       "    </tr>\n",
       "    <tr>\n",
       "      <th>percent_change_price</th>\n",
       "      <td>-0.076259</td>\n",
       "      <td>0.074321</td>\n",
       "      <td>0.091083</td>\n",
       "      <td>0.095997</td>\n",
       "      <td>0.110531</td>\n",
       "      <td>-0.173245</td>\n",
       "      <td>1.000000</td>\n",
       "      <td>-0.234496</td>\n",
       "      <td>-0.068675</td>\n",
       "      <td>0.110819</td>\n",
       "      <td>0.111796</td>\n",
       "      <td>0.020639</td>\n",
       "      <td>-0.009060</td>\n",
       "      <td>0.049963</td>\n",
       "    </tr>\n",
       "    <tr>\n",
       "      <th>percent_change_volume_over_last_wk</th>\n",
       "      <td>0.023662</td>\n",
       "      <td>-0.008510</td>\n",
       "      <td>-0.006513</td>\n",
       "      <td>-0.017541</td>\n",
       "      <td>-0.016479</td>\n",
       "      <td>0.181672</td>\n",
       "      <td>-0.234496</td>\n",
       "      <td>1.000000</td>\n",
       "      <td>-0.129519</td>\n",
       "      <td>-0.015416</td>\n",
       "      <td>-0.015660</td>\n",
       "      <td>0.013181</td>\n",
       "      <td>-0.033348</td>\n",
       "      <td>-0.017486</td>\n",
       "    </tr>\n",
       "    <tr>\n",
       "      <th>previous_weeks_volume</th>\n",
       "      <td>-0.057302</td>\n",
       "      <td>-0.511910</td>\n",
       "      <td>-0.511344</td>\n",
       "      <td>-0.511540</td>\n",
       "      <td>-0.511354</td>\n",
       "      <td>0.887631</td>\n",
       "      <td>-0.068675</td>\n",
       "      <td>-0.129519</td>\n",
       "      <td>1.000000</td>\n",
       "      <td>-0.511349</td>\n",
       "      <td>-0.511120</td>\n",
       "      <td>-0.102408</td>\n",
       "      <td>-0.047727</td>\n",
       "      <td>-0.270266</td>\n",
       "    </tr>\n",
       "    <tr>\n",
       "      <th>next_weeks_open</th>\n",
       "      <td>0.018354</td>\n",
       "      <td>0.998950</td>\n",
       "      <td>0.999476</td>\n",
       "      <td>0.999435</td>\n",
       "      <td>0.999917</td>\n",
       "      <td>-0.523710</td>\n",
       "      <td>0.110819</td>\n",
       "      <td>-0.015416</td>\n",
       "      <td>-0.511349</td>\n",
       "      <td>1.000000</td>\n",
       "      <td>0.998872</td>\n",
       "      <td>0.067147</td>\n",
       "      <td>-0.061205</td>\n",
       "      <td>-0.147101</td>\n",
       "    </tr>\n",
       "    <tr>\n",
       "      <th>next_weeks_close</th>\n",
       "      <td>0.017176</td>\n",
       "      <td>0.997774</td>\n",
       "      <td>0.998481</td>\n",
       "      <td>0.998299</td>\n",
       "      <td>0.998836</td>\n",
       "      <td>-0.523208</td>\n",
       "      <td>0.111796</td>\n",
       "      <td>-0.015660</td>\n",
       "      <td>-0.511120</td>\n",
       "      <td>0.998872</td>\n",
       "      <td>1.000000</td>\n",
       "      <td>0.106578</td>\n",
       "      <td>-0.062794</td>\n",
       "      <td>-0.144895</td>\n",
       "    </tr>\n",
       "    <tr>\n",
       "      <th>percent_change_next_weeks_price</th>\n",
       "      <td>0.000098</td>\n",
       "      <td>0.066695</td>\n",
       "      <td>0.069589</td>\n",
       "      <td>0.067255</td>\n",
       "      <td>0.067789</td>\n",
       "      <td>-0.091106</td>\n",
       "      <td>0.020639</td>\n",
       "      <td>0.013181</td>\n",
       "      <td>-0.102408</td>\n",
       "      <td>0.067147</td>\n",
       "      <td>0.106578</td>\n",
       "      <td>1.000000</td>\n",
       "      <td>-0.028797</td>\n",
       "      <td>0.103009</td>\n",
       "    </tr>\n",
       "    <tr>\n",
       "      <th>days_to_next_dividend</th>\n",
       "      <td>-0.020749</td>\n",
       "      <td>-0.059737</td>\n",
       "      <td>-0.060586</td>\n",
       "      <td>-0.060948</td>\n",
       "      <td>-0.060981</td>\n",
       "      <td>-0.057734</td>\n",
       "      <td>-0.009060</td>\n",
       "      <td>-0.033348</td>\n",
       "      <td>-0.047727</td>\n",
       "      <td>-0.061205</td>\n",
       "      <td>-0.062794</td>\n",
       "      <td>-0.028797</td>\n",
       "      <td>1.000000</td>\n",
       "      <td>0.119733</td>\n",
       "    </tr>\n",
       "    <tr>\n",
       "      <th>percent_return_next_dividend</th>\n",
       "      <td>-0.007963</td>\n",
       "      <td>-0.147291</td>\n",
       "      <td>-0.149462</td>\n",
       "      <td>-0.144788</td>\n",
       "      <td>-0.147205</td>\n",
       "      <td>-0.269797</td>\n",
       "      <td>0.049963</td>\n",
       "      <td>-0.017486</td>\n",
       "      <td>-0.270266</td>\n",
       "      <td>-0.147101</td>\n",
       "      <td>-0.144895</td>\n",
       "      <td>0.103009</td>\n",
       "      <td>0.119733</td>\n",
       "      <td>1.000000</td>\n",
       "    </tr>\n",
       "  </tbody>\n",
       "</table>\n",
       "</div>"
      ],
      "text/plain": [
       "                                     quarter      open      high       low  \\\n",
       "quarter                             1.000000  0.023726  0.022625  0.022775   \n",
       "open                                0.023726  1.000000  0.999613  0.999339   \n",
       "high                                0.022625  0.999613  1.000000  0.999420   \n",
       "low                                 0.022775  0.999339  0.999420  1.000000   \n",
       "close                               0.019811  0.999049  0.999555  0.999549   \n",
       "volume                             -0.037889 -0.522450 -0.521307 -0.524210   \n",
       "percent_change_price               -0.076259  0.074321  0.091083  0.095997   \n",
       "percent_change_volume_over_last_wk  0.023662 -0.008510 -0.006513 -0.017541   \n",
       "previous_weeks_volume              -0.057302 -0.511910 -0.511344 -0.511540   \n",
       "next_weeks_open                     0.018354  0.998950  0.999476  0.999435   \n",
       "next_weeks_close                    0.017176  0.997774  0.998481  0.998299   \n",
       "percent_change_next_weeks_price     0.000098  0.066695  0.069589  0.067255   \n",
       "days_to_next_dividend              -0.020749 -0.059737 -0.060586 -0.060948   \n",
       "percent_return_next_dividend       -0.007963 -0.147291 -0.149462 -0.144788   \n",
       "\n",
       "                                       close    volume  percent_change_price  \\\n",
       "quarter                             0.019811 -0.037889             -0.076259   \n",
       "open                                0.999049 -0.522450              0.074321   \n",
       "high                                0.999555 -0.521307              0.091083   \n",
       "low                                 0.999549 -0.524210              0.095997   \n",
       "close                               1.000000 -0.523935              0.110531   \n",
       "volume                             -0.523935  1.000000             -0.173245   \n",
       "percent_change_price                0.110531 -0.173245              1.000000   \n",
       "percent_change_volume_over_last_wk -0.016479  0.181672             -0.234496   \n",
       "previous_weeks_volume              -0.511354  0.887631             -0.068675   \n",
       "next_weeks_open                     0.999917 -0.523710              0.110819   \n",
       "next_weeks_close                    0.998836 -0.523208              0.111796   \n",
       "percent_change_next_weeks_price     0.067789 -0.091106              0.020639   \n",
       "days_to_next_dividend              -0.060981 -0.057734             -0.009060   \n",
       "percent_return_next_dividend       -0.147205 -0.269797              0.049963   \n",
       "\n",
       "                                    percent_change_volume_over_last_wk  \\\n",
       "quarter                                                       0.023662   \n",
       "open                                                         -0.008510   \n",
       "high                                                         -0.006513   \n",
       "low                                                          -0.017541   \n",
       "close                                                        -0.016479   \n",
       "volume                                                        0.181672   \n",
       "percent_change_price                                         -0.234496   \n",
       "percent_change_volume_over_last_wk                            1.000000   \n",
       "previous_weeks_volume                                        -0.129519   \n",
       "next_weeks_open                                              -0.015416   \n",
       "next_weeks_close                                             -0.015660   \n",
       "percent_change_next_weeks_price                               0.013181   \n",
       "days_to_next_dividend                                        -0.033348   \n",
       "percent_return_next_dividend                                 -0.017486   \n",
       "\n",
       "                                    previous_weeks_volume  next_weeks_open  \\\n",
       "quarter                                         -0.057302         0.018354   \n",
       "open                                            -0.511910         0.998950   \n",
       "high                                            -0.511344         0.999476   \n",
       "low                                             -0.511540         0.999435   \n",
       "close                                           -0.511354         0.999917   \n",
       "volume                                           0.887631        -0.523710   \n",
       "percent_change_price                            -0.068675         0.110819   \n",
       "percent_change_volume_over_last_wk              -0.129519        -0.015416   \n",
       "previous_weeks_volume                            1.000000        -0.511349   \n",
       "next_weeks_open                                 -0.511349         1.000000   \n",
       "next_weeks_close                                -0.511120         0.998872   \n",
       "percent_change_next_weeks_price                 -0.102408         0.067147   \n",
       "days_to_next_dividend                           -0.047727        -0.061205   \n",
       "percent_return_next_dividend                    -0.270266        -0.147101   \n",
       "\n",
       "                                    next_weeks_close  \\\n",
       "quarter                                     0.017176   \n",
       "open                                        0.997774   \n",
       "high                                        0.998481   \n",
       "low                                         0.998299   \n",
       "close                                       0.998836   \n",
       "volume                                     -0.523208   \n",
       "percent_change_price                        0.111796   \n",
       "percent_change_volume_over_last_wk         -0.015660   \n",
       "previous_weeks_volume                      -0.511120   \n",
       "next_weeks_open                             0.998872   \n",
       "next_weeks_close                            1.000000   \n",
       "percent_change_next_weeks_price             0.106578   \n",
       "days_to_next_dividend                      -0.062794   \n",
       "percent_return_next_dividend               -0.144895   \n",
       "\n",
       "                                    percent_change_next_weeks_price  \\\n",
       "quarter                                                    0.000098   \n",
       "open                                                       0.066695   \n",
       "high                                                       0.069589   \n",
       "low                                                        0.067255   \n",
       "close                                                      0.067789   \n",
       "volume                                                    -0.091106   \n",
       "percent_change_price                                       0.020639   \n",
       "percent_change_volume_over_last_wk                         0.013181   \n",
       "previous_weeks_volume                                     -0.102408   \n",
       "next_weeks_open                                            0.067147   \n",
       "next_weeks_close                                           0.106578   \n",
       "percent_change_next_weeks_price                            1.000000   \n",
       "days_to_next_dividend                                     -0.028797   \n",
       "percent_return_next_dividend                               0.103009   \n",
       "\n",
       "                                    days_to_next_dividend  \\\n",
       "quarter                                         -0.020749   \n",
       "open                                            -0.059737   \n",
       "high                                            -0.060586   \n",
       "low                                             -0.060948   \n",
       "close                                           -0.060981   \n",
       "volume                                          -0.057734   \n",
       "percent_change_price                            -0.009060   \n",
       "percent_change_volume_over_last_wk              -0.033348   \n",
       "previous_weeks_volume                           -0.047727   \n",
       "next_weeks_open                                 -0.061205   \n",
       "next_weeks_close                                -0.062794   \n",
       "percent_change_next_weeks_price                 -0.028797   \n",
       "days_to_next_dividend                            1.000000   \n",
       "percent_return_next_dividend                     0.119733   \n",
       "\n",
       "                                    percent_return_next_dividend  \n",
       "quarter                                                -0.007963  \n",
       "open                                                   -0.147291  \n",
       "high                                                   -0.149462  \n",
       "low                                                    -0.144788  \n",
       "close                                                  -0.147205  \n",
       "volume                                                 -0.269797  \n",
       "percent_change_price                                    0.049963  \n",
       "percent_change_volume_over_last_wk                     -0.017486  \n",
       "previous_weeks_volume                                  -0.270266  \n",
       "next_weeks_open                                        -0.147101  \n",
       "next_weeks_close                                       -0.144895  \n",
       "percent_change_next_weeks_price                         0.103009  \n",
       "days_to_next_dividend                                   0.119733  \n",
       "percent_return_next_dividend                            1.000000  "
      ]
     },
     "execution_count": 18,
     "metadata": {},
     "output_type": "execute_result"
    }
   ],
   "source": [
    "#Looking at correlated variables and potential collinearity:\n",
    "dji_data.corr()"
   ]
  },
  {
   "cell_type": "markdown",
   "metadata": {},
   "source": [
    "***Supplementary visualizations***"
   ]
  },
  {
   "cell_type": "code",
   "execution_count": 19,
   "metadata": {},
   "outputs": [
    {
     "data": {
      "text/plain": [
       "<matplotlib.axes._subplots.AxesSubplot at 0x1a058c19160>"
      ]
     },
     "execution_count": 19,
     "metadata": {},
     "output_type": "execute_result"
    },
    {
     "data": {
      "image/png": "[encoded data removed]",
      "text/plain": [
       "<Figure size 1440x1440 with 2 Axes>"
      ]
     },
     "metadata": {
      "needs_background": "light"
     },
     "output_type": "display_data"
    }
   ],
   "source": [
    "#To make this a bit clearer, I'm going to use a heatmap:\n",
    "plt.subplots(figsize=(20,20))\n",
    "sns.heatmap(dji_data.corr(), vmin = -1, vmax = 1, annot=True)"
   ]
  },
  {
   "cell_type": "markdown",
   "metadata": {},
   "source": [
    "So that helped a bit; a number of variables are completely correlated, probably dependent, and can likely be omitted.\n",
    "Looking at the heatmap as a guide, and after examining what each variable stands for, many variables can be eliminated;\n",
    "for example, most high-low values expressed elsewhere as '% change', and 'open' and 'close' are often the same (though\n",
    "separated by a trading cycle.)\n",
    "\n",
    "Keeping the following variables: *'quarter', 'stock', 'date', 'open', 'percent_change_price', 'percent_change_volume_over_last_wk',\n",
    "'days_to_next_dividend',* and *'percent_return_next_dividend'*."
   ]
  },
  {
   "cell_type": "code",
   "execution_count": 20,
   "metadata": {},
   "outputs": [],
   "source": [
    "dji_red = (dji_data.drop(['high', 'low', 'close', 'volume', 'previous_weeks_volume', 'next_weeks_open', 'next_weeks_close'],\n",
    "                        axis = 1))"
   ]
  },
  {
   "cell_type": "code",
   "execution_count": 21,
   "metadata": {},
   "outputs": [
    {
     "data": {
      "text/html": [
       "<div>\n",
       "<style scoped>\n",
       "    .dataframe tbody tr th:only-of-type {\n",
       "        vertical-align: middle;\n",
       "    }\n",
       "\n",
       "    .dataframe tbody tr th {\n",
       "        vertical-align: top;\n",
       "    }\n",
       "\n",
       "    .dataframe thead th {\n",
       "        text-align: right;\n",
       "    }\n",
       "</style>\n",
       "<table border=\"1\" class=\"dataframe\">\n",
       "  <thead>\n",
       "    <tr style=\"text-align: right;\">\n",
       "      <th></th>\n",
       "      <th>quarter</th>\n",
       "      <th>open</th>\n",
       "      <th>percent_change_price</th>\n",
       "      <th>percent_change_volume_over_last_wk</th>\n",
       "      <th>percent_change_next_weeks_price</th>\n",
       "      <th>days_to_next_dividend</th>\n",
       "      <th>percent_return_next_dividend</th>\n",
       "    </tr>\n",
       "  </thead>\n",
       "  <tbody>\n",
       "    <tr>\n",
       "      <th>quarter</th>\n",
       "      <td>1.000000</td>\n",
       "      <td>0.023726</td>\n",
       "      <td>-0.076259</td>\n",
       "      <td>0.023662</td>\n",
       "      <td>0.000098</td>\n",
       "      <td>-0.020749</td>\n",
       "      <td>-0.007963</td>\n",
       "    </tr>\n",
       "    <tr>\n",
       "      <th>open</th>\n",
       "      <td>0.023726</td>\n",
       "      <td>1.000000</td>\n",
       "      <td>0.074321</td>\n",
       "      <td>-0.008510</td>\n",
       "      <td>0.066695</td>\n",
       "      <td>-0.059737</td>\n",
       "      <td>-0.147291</td>\n",
       "    </tr>\n",
       "    <tr>\n",
       "      <th>percent_change_price</th>\n",
       "      <td>-0.076259</td>\n",
       "      <td>0.074321</td>\n",
       "      <td>1.000000</td>\n",
       "      <td>-0.234496</td>\n",
       "      <td>0.020639</td>\n",
       "      <td>-0.009060</td>\n",
       "      <td>0.049963</td>\n",
       "    </tr>\n",
       "    <tr>\n",
       "      <th>percent_change_volume_over_last_wk</th>\n",
       "      <td>0.023662</td>\n",
       "      <td>-0.008510</td>\n",
       "      <td>-0.234496</td>\n",
       "      <td>1.000000</td>\n",
       "      <td>0.013181</td>\n",
       "      <td>-0.033348</td>\n",
       "      <td>-0.017486</td>\n",
       "    </tr>\n",
       "    <tr>\n",
       "      <th>percent_change_next_weeks_price</th>\n",
       "      <td>0.000098</td>\n",
       "      <td>0.066695</td>\n",
       "      <td>0.020639</td>\n",
       "      <td>0.013181</td>\n",
       "      <td>1.000000</td>\n",
       "      <td>-0.028797</td>\n",
       "      <td>0.103009</td>\n",
       "    </tr>\n",
       "    <tr>\n",
       "      <th>days_to_next_dividend</th>\n",
       "      <td>-0.020749</td>\n",
       "      <td>-0.059737</td>\n",
       "      <td>-0.009060</td>\n",
       "      <td>-0.033348</td>\n",
       "      <td>-0.028797</td>\n",
       "      <td>1.000000</td>\n",
       "      <td>0.119733</td>\n",
       "    </tr>\n",
       "    <tr>\n",
       "      <th>percent_return_next_dividend</th>\n",
       "      <td>-0.007963</td>\n",
       "      <td>-0.147291</td>\n",
       "      <td>0.049963</td>\n",
       "      <td>-0.017486</td>\n",
       "      <td>0.103009</td>\n",
       "      <td>0.119733</td>\n",
       "      <td>1.000000</td>\n",
       "    </tr>\n",
       "  </tbody>\n",
       "</table>\n",
       "</div>"
      ],
      "text/plain": [
       "                                     quarter      open  percent_change_price  \\\n",
       "quarter                             1.000000  0.023726             -0.076259   \n",
       "open                                0.023726  1.000000              0.074321   \n",
       "percent_change_price               -0.076259  0.074321              1.000000   \n",
       "percent_change_volume_over_last_wk  0.023662 -0.008510             -0.234496   \n",
       "percent_change_next_weeks_price     0.000098  0.066695              0.020639   \n",
       "days_to_next_dividend              -0.020749 -0.059737             -0.009060   \n",
       "percent_return_next_dividend       -0.007963 -0.147291              0.049963   \n",
       "\n",
       "                                    percent_change_volume_over_last_wk  \\\n",
       "quarter                                                       0.023662   \n",
       "open                                                         -0.008510   \n",
       "percent_change_price                                         -0.234496   \n",
       "percent_change_volume_over_last_wk                            1.000000   \n",
       "percent_change_next_weeks_price                               0.013181   \n",
       "days_to_next_dividend                                        -0.033348   \n",
       "percent_return_next_dividend                                 -0.017486   \n",
       "\n",
       "                                    percent_change_next_weeks_price  \\\n",
       "quarter                                                    0.000098   \n",
       "open                                                       0.066695   \n",
       "percent_change_price                                       0.020639   \n",
       "percent_change_volume_over_last_wk                         0.013181   \n",
       "percent_change_next_weeks_price                            1.000000   \n",
       "days_to_next_dividend                                     -0.028797   \n",
       "percent_return_next_dividend                               0.103009   \n",
       "\n",
       "                                    days_to_next_dividend  \\\n",
       "quarter                                         -0.020749   \n",
       "open                                            -0.059737   \n",
       "percent_change_price                            -0.009060   \n",
       "percent_change_volume_over_last_wk              -0.033348   \n",
       "percent_change_next_weeks_price                 -0.028797   \n",
       "days_to_next_dividend                            1.000000   \n",
       "percent_return_next_dividend                     0.119733   \n",
       "\n",
       "                                    percent_return_next_dividend  \n",
       "quarter                                                -0.007963  \n",
       "open                                                   -0.147291  \n",
       "percent_change_price                                    0.049963  \n",
       "percent_change_volume_over_last_wk                     -0.017486  \n",
       "percent_change_next_weeks_price                         0.103009  \n",
       "days_to_next_dividend                                   0.119733  \n",
       "percent_return_next_dividend                            1.000000  "
      ]
     },
     "execution_count": 21,
     "metadata": {},
     "output_type": "execute_result"
    }
   ],
   "source": [
    "#Looking at the correlations (or lack thereof) between the remaining variables is encouraging:\n",
    "dji_red.corr()"
   ]
  },
  {
   "cell_type": "code",
   "execution_count": 22,
   "metadata": {},
   "outputs": [],
   "source": [
    "#Now to create the training and testing sets:\n",
    "df_train = dji_red[dji_red['quarter'] == 1]\n",
    "df_test = dji_red[dji_red['quarter'] == 2]"
   ]
  },
  {
   "cell_type": "markdown",
   "metadata": {},
   "source": [
    "## Models\n",
    "\n",
    "### Model 1: MLR with forward-stepwise refinement\n",
    "\n",
    "Now that the data is ready for analysis, I'll try to find the best method for modeling the changes in a stock's price from one week to the next. These methods are going to target regression as an outcome; as such, it makes sense to start with some simpler supervised-learning regression methods and build upon that effectiveness. I'll begin with *multiple linear regression with forward-stepwise refinement*.  "
   ]
  },
  {
   "cell_type": "code",
   "execution_count": 23,
   "metadata": {},
   "outputs": [],
   "source": [
    "#Listing the variables to test:\n",
    "var_lst = ['date', 'stock', 'open', 'percent_change_price', 'percent_change_volume_over_last_wk', 'days_to_next_dividend',\n",
    "           'percent_return_next_dividend']"
   ]
  },
  {
   "cell_type": "markdown",
   "metadata": {},
   "source": [
    "Using $R^2$ as a performance metric, checking to see which of the remaining predictor variables could be used for the model."
   ]
  },
  {
   "cell_type": "code",
   "execution_count": 24,
   "metadata": {},
   "outputs": [
    {
     "name": "stdout",
     "output_type": "stream",
     "text": [
      "date 0.20668531066314666\n",
      "stock 0.09601681473188539\n",
      "open 0.014953787257643847\n",
      "percent_change_price 0.00010762721805457343\n",
      "percent_change_volume_over_last_wk 0.0019855441687202102\n",
      "days_to_next_dividend 2.7830735561673592e-05\n",
      "percent_return_next_dividend 0.012004612274825632\n",
      "top predictor: ['date', 0.20668531066314666]\n"
     ]
    }
   ],
   "source": [
    "top_pred = ['',0]\n",
    "for pred in var_lst:\n",
    "    mod  = smf.ols(formula='percent_change_next_weeks_price~' + pred, data=df_train).fit()\n",
    "    print(pred, mod.rsquared)\n",
    "    if mod.rsquared>top_pred[1]:\n",
    "        top_pred = [pred, mod.rsquared]\n",
    "print('top predictor:',top_pred)"
   ]
  },
  {
   "cell_type": "markdown",
   "metadata": {},
   "source": [
    "**Analysis of Model 1:**\n",
    "\n",
    "None of those did well; the $R^2$ of $0.207$ for 'date' and $0.096$ for 'stock' are low. Furthermore, it only shows that the top-performing predictor variables are the dates and the stock itself; in the case of the stock, this means we can ditch most of these other predictors and focus on a company's fundamentals/financials/performance as well as the timing. And maybe that's true. But rather than continue down this path, I'd like to test some alternative models; I'll move on from MLR for now."
   ]
  },
  {
   "cell_type": "markdown",
   "metadata": {},
   "source": [
    "### Model 2: Random-Forest Regression\n",
    "\n",
    "While random forest models can be used for classification problems, they can also be used for regression. As they are reputed for their effectiveness in modeling noisy, multi-featured data, it makes sense to try random-forest regression for this modeling problem.\n",
    "\n",
    "I'll facilitate this with an **additional layer of data munging** by transforming the date to a categorical variable; quarter and stock can be dropped as well for this problem. I'll define X and y as the set of predictor variables and the response variable, respectively."
   ]
  },
  {
   "cell_type": "code",
   "execution_count": 25,
   "metadata": {},
   "outputs": [
    {
     "name": "stderr",
     "output_type": "stream",
     "text": [
      "<ipython-input-25-b742c9ec5a95>:1: SettingWithCopyWarning: \n",
      "A value is trying to be set on a copy of a slice from a DataFrame.\n",
      "Try using .loc[row_indexer,col_indexer] = value instead\n",
      "\n",
      "See the caveats in the documentation: https://pandas.pydata.org/pandas-docs/stable/user_guide/indexing.html#returning-a-view-versus-a-copy\n",
      "  df_train['date'] = df_train['date'].astype('category')\n"
     ]
    }
   ],
   "source": [
    "df_train['date'] = df_train['date'].astype('category')\n",
    "\n",
    "X = df_train.drop(['quarter', 'stock', 'percent_change_next_weeks_price'], axis = 1)\n",
    "y = df_train['percent_change_next_weeks_price']"
   ]
  },
  {
   "cell_type": "code",
   "execution_count": 26,
   "metadata": {},
   "outputs": [
    {
     "name": "stdout",
     "output_type": "stream",
     "text": [
      "<class 'pandas.core.frame.DataFrame'>\n",
      "Int64Index: 330 entries, 1 to 359\n",
      "Data columns (total 6 columns):\n",
      " #   Column                              Non-Null Count  Dtype   \n",
      "---  ------                              --------------  -----   \n",
      " 0   date                                330 non-null    category\n",
      " 1   open                                330 non-null    float64 \n",
      " 2   percent_change_price                330 non-null    float64 \n",
      " 3   percent_change_volume_over_last_wk  330 non-null    float64 \n",
      " 4   days_to_next_dividend               330 non-null    int64   \n",
      " 5   percent_return_next_dividend        330 non-null    float64 \n",
      "dtypes: category(1), float64(4), int64(1)\n",
      "memory usage: 16.2 KB\n"
     ]
    }
   ],
   "source": [
    "#Exploring X to make sure the data types are usable for random-forest regression:\n",
    "X.info()"
   ]
  },
  {
   "cell_type": "code",
   "execution_count": 27,
   "metadata": {},
   "outputs": [],
   "source": [
    "#Let's see how many estimators will be needed to improve the fit on the training data.\n",
    "#Using root mean squared error (RMSE) to evaluate the random forest predictions\n",
    "from sklearn.metrics import mean_squared_error\n",
    "from sklearn.ensemble import RandomForestRegressor\n",
    "rmse_vals = []\n",
    "for i in range(1, 41, 1):\n",
    "    reg = RandomForestRegressor(n_estimators = i, random_state = 42)\n",
    "    reg.fit(X, y)\n",
    "    ytrain_pred = reg.predict(X)\n",
    "    rmse_met = mean_squared_error(ytrain_pred, y, squared = False)\n",
    "    rmse_vals.append(rmse_met)"
   ]
  },
  {
   "cell_type": "code",
   "execution_count": 28,
   "metadata": {},
   "outputs": [
    {
     "data": {
      "text/plain": [
       "Text(0, 0.5, 'RMSE')"
      ]
     },
     "execution_count": 28,
     "metadata": {},
     "output_type": "execute_result"
    },
    {
     "data": {
      "image/png": "[encoded data removed]",
      "text/plain": [
       "<Figure size 432x288 with 1 Axes>"
      ]
     },
     "metadata": {
      "needs_background": "light"
     },
     "output_type": "display_data"
    }
   ],
   "source": [
    "plt.plot(range(1, 41, 1), rmse_vals)\n",
    "plt.title('RMSE by Number of Estimators')\n",
    "plt.xlabel('Estimators')\n",
    "plt.ylabel('RMSE')"
   ]
  },
  {
   "cell_type": "code",
   "execution_count": 29,
   "metadata": {},
   "outputs": [
    {
     "data": {
      "text/plain": [
       "0.8898449039209729"
      ]
     },
     "execution_count": 29,
     "metadata": {},
     "output_type": "execute_result"
    }
   ],
   "source": [
    "#Probably best around k = 21, as it is less complicated than higher values of k, while improvement slows down after that\n",
    "reg_final = RandomForestRegressor(n_estimators = 21, random_state = 42)\n",
    "reg_final.fit(X, y)\n",
    "ytrain_pred = reg.predict(X)\n",
    "mean_squared_error(ytrain_pred, y, squared = False)"
   ]
  },
  {
   "cell_type": "code",
   "execution_count": 30,
   "metadata": {},
   "outputs": [
    {
     "data": {
      "text/plain": [
       "Text(0, 0.5, 'Actual Training')"
      ]
     },
     "execution_count": 30,
     "metadata": {},
     "output_type": "execute_result"
    },
    {
     "data": {
      "image/png": "[encoded data removed]",
      "text/plain": [
       "<Figure size 432x288 with 1 Axes>"
      ]
     },
     "metadata": {
      "needs_background": "light"
     },
     "output_type": "display_data"
    }
   ],
   "source": [
    "#And to have some sense of what those errors would look like, \n",
    "#I'm plotting the values here of the predicted values and the actual training values:\n",
    "plt.plot(ytrain_pred, y, 'bo')\n",
    "plt.title('Random Forest Predicted Values vs. Training Values')\n",
    "plt.xlabel('Predicted')\n",
    "plt.ylabel('Actual Training')"
   ]
  },
  {
   "cell_type": "code",
   "execution_count": 31,
   "metadata": {},
   "outputs": [
    {
     "name": "stderr",
     "output_type": "stream",
     "text": [
      "<ipython-input-31-7df5e8ffcfb5>:2: SettingWithCopyWarning: \n",
      "A value is trying to be set on a copy of a slice from a DataFrame.\n",
      "Try using .loc[row_indexer,col_indexer] = value instead\n",
      "\n",
      "See the caveats in the documentation: https://pandas.pydata.org/pandas-docs/stable/user_guide/indexing.html#returning-a-view-versus-a-copy\n",
      "  df_test['date'] = df_test['date'].astype('category')\n"
     ]
    },
    {
     "data": {
      "text/plain": [
       "3.1994612410358036"
      ]
     },
     "execution_count": 31,
     "metadata": {},
     "output_type": "execute_result"
    }
   ],
   "source": [
    "#Now let's see how it performs on the test data:\n",
    "df_test['date'] = df_test['date'].astype('category')\n",
    "X_test = df_test.drop(['quarter', 'stock', 'percent_change_next_weeks_price'], axis = 1)\n",
    "y_test = df_test['percent_change_next_weeks_price']\n",
    "\n",
    "ytest_pred = reg_final.predict(X_test)\n",
    "rmse_test = mean_squared_error(ytest_pred, y_test, squared = False)\n",
    "rmse_test"
   ]
  },
  {
   "cell_type": "code",
   "execution_count": 32,
   "metadata": {},
   "outputs": [
    {
     "data": {
      "text/plain": [
       "Text(0, 0.5, 'Actual Test')"
      ]
     },
     "execution_count": 32,
     "metadata": {},
     "output_type": "execute_result"
    },
    {
     "data": {
      "image/png": "[encoded data removed]",
      "text/plain": [
       "<Figure size 432x288 with 1 Axes>"
      ]
     },
     "metadata": {
      "needs_background": "light"
     },
     "output_type": "display_data"
    }
   ],
   "source": [
    "plt.plot(ytest_pred, y_test, 'go')\n",
    "plt.title('Random Forest Predicted Values vs. Test Values')\n",
    "plt.xlabel('Predicted')\n",
    "plt.ylabel('Actual Test')"
   ]
  },
  {
   "cell_type": "markdown",
   "metadata": {},
   "source": [
    "**Analysis of Model 2:**\n",
    "\n",
    "Random-forest regression didn't perform as well as I'd hoped. It fit the training data considerably better than the testing data, which suggests the influence of other variables—perhaps uncaptured—which influenced the movement in stock prices.\n",
    "\n",
    "What about pivoting on the problem by re-considering the *essence* of our goal? If the idea of predicting stock returns is to guide investment decisions, then couldn't a binary yes/no response to the question of *whether* to buy a stock be useful? In other words, if the effectiveness of regression modeling methods is doubtful here, then what about reframing the problem as a *classification* problem?\n",
    "\n",
    "This implies the target of predicting whether a stock will move up or down. As most investors buy baskets of stocks rather than particular ones, perhaps understanding which to include in a purchase would make better sense and enable the reduction/dispersion of risk. So one way to look at this is as a problem where we're trying to predict whether the return will be positive or negative; I can create another variable to enable this analysis."
   ]
  },
  {
   "cell_type": "code",
   "execution_count": 33,
   "metadata": {},
   "outputs": [
    {
     "name": "stderr",
     "output_type": "stream",
     "text": [
      "<ipython-input-33-29b8e74c82d5>:1: SettingWithCopyWarning: \n",
      "A value is trying to be set on a copy of a slice from a DataFrame.\n",
      "Try using .loc[row_indexer,col_indexer] = value instead\n",
      "\n",
      "See the caveats in the documentation: https://pandas.pydata.org/pandas-docs/stable/user_guide/indexing.html#returning-a-view-versus-a-copy\n",
      "  df_train['next_weeks_direction'] = (df_train['percent_change_next_weeks_price'] > 0).astype('int')\n",
      "<ipython-input-33-29b8e74c82d5>:2: SettingWithCopyWarning: \n",
      "A value is trying to be set on a copy of a slice from a DataFrame.\n",
      "Try using .loc[row_indexer,col_indexer] = value instead\n",
      "\n",
      "See the caveats in the documentation: https://pandas.pydata.org/pandas-docs/stable/user_guide/indexing.html#returning-a-view-versus-a-copy\n",
      "  df_test['next_weeks_direction'] = (df_test['percent_change_next_weeks_price'] > 0).astype('int')\n"
     ]
    }
   ],
   "source": [
    "df_train['next_weeks_direction'] = (df_train['percent_change_next_weeks_price'] > 0).astype('int')\n",
    "df_test['next_weeks_direction'] = (df_test['percent_change_next_weeks_price'] > 0).astype('int')"
   ]
  },
  {
   "cell_type": "code",
   "execution_count": 34,
   "metadata": {},
   "outputs": [
    {
     "data": {
      "text/plain": [
       "360    1\n",
       "361    0\n",
       "362    1\n",
       "363    1\n",
       "364    0\n",
       "      ..\n",
       "745    0\n",
       "746    0\n",
       "747    0\n",
       "748    0\n",
       "749    1\n",
       "Name: next_weeks_direction, Length: 390, dtype: int32"
      ]
     },
     "execution_count": 34,
     "metadata": {},
     "output_type": "execute_result"
    }
   ],
   "source": [
    "df_test['next_weeks_direction']"
   ]
  },
  {
   "cell_type": "markdown",
   "metadata": {},
   "source": [
    "## Model 3: Logistic Regression for Binary Classification\n",
    "\n",
    "Logistic regression can be used to model binary responses (e.g., positive/negative price changes) using multiple predictor variables. To handle issues of dependence and collinearity, I'll drop the variable upon which the direction of the price change is based: *'percent_change_next_weeks_price'*."
   ]
  },
  {
   "cell_type": "code",
   "execution_count": 35,
   "metadata": {},
   "outputs": [],
   "source": [
    "#Trying binary classification via logistic regression to model the outcome: positive or negative price changes.\n",
    "#Because 'percent_change_next_weeks_price' defines 'next_weeks_direction' it is necessary to drop that variable\n",
    "X1 = df_train.drop(['quarter', 'stock', 'percent_change_next_weeks_price'], axis = 1)\n",
    "y1 = df_train['next_weeks_direction']\n",
    "\n",
    "log_reg = LogisticRegression(solver = 'liblinear').fit(X1, y1)"
   ]
  },
  {
   "cell_type": "code",
   "execution_count": 36,
   "metadata": {},
   "outputs": [
    {
     "data": {
      "text/plain": [
       "array([[1.21608174e-19, 1.49117405e-35, 3.21205083e-37, 5.05217605e-36,\n",
       "        2.81206834e-36, 1.22514030e-37, 1.23397357e-36]])"
      ]
     },
     "execution_count": 36,
     "metadata": {},
     "output_type": "execute_result"
    }
   ],
   "source": [
    "log_reg.coef_"
   ]
  },
  {
   "cell_type": "code",
   "execution_count": 37,
   "metadata": {},
   "outputs": [],
   "source": [
    "logreg_pred = log_reg.predict(X1)"
   ]
  },
  {
   "cell_type": "code",
   "execution_count": 38,
   "metadata": {},
   "outputs": [
    {
     "name": "stdout",
     "output_type": "stream",
     "text": [
      "accuracy is: 0.5393939393939394\n",
      "recall is: 1.0\n",
      "precision is: 0.5393939393939394\n"
     ]
    }
   ],
   "source": [
    "#Checking to see how well this model did with the training data\n",
    "print('accuracy is:', accuracy_score(y1, logreg_pred))\n",
    "print('recall is:', recall_score(y1, logreg_pred))\n",
    "print('precision is:', precision_score(y1, logreg_pred))"
   ]
  },
  {
   "cell_type": "code",
   "execution_count": 39,
   "metadata": {},
   "outputs": [
    {
     "name": "stdout",
     "output_type": "stream",
     "text": [
      "accuracy is: 0.4717948717948718\n",
      "recall is: 1.0\n",
      "precision is: 0.4717948717948718\n"
     ]
    }
   ],
   "source": [
    "#Now applying to the test data:\n",
    "X1_test = df_test.drop(['quarter', 'stock', 'percent_change_next_weeks_price'], axis = 1)\n",
    "X1_test['date'] = X1_test['date'].astype('category')\n",
    "y1_test = df_test['next_weeks_direction']\n",
    "\n",
    "logreg_test_pred = log_reg.predict(X1_test)\n",
    "print('accuracy is:', accuracy_score(y1_test, logreg_test_pred))\n",
    "print('recall is:', recall_score(y1_test, logreg_test_pred))\n",
    "print('precision is:', precision_score(y1_test, logreg_test_pred))"
   ]
  },
  {
   "cell_type": "markdown",
   "metadata": {},
   "source": [
    "**Analysis of Model 3:**\n",
    "\n",
    "The above was not much better. But what if the quarter is an important part of the data?\n",
    "Trying these 3 methods after re-training the data to allow the quarters to be a variable; and increasing the size\n",
    "of the training set."
   ]
  },
  {
   "cell_type": "code",
   "execution_count": 40,
   "metadata": {},
   "outputs": [],
   "source": [
    "df_train, df_test = train_test_split(dji_red, test_size = 0.2, random_state = 42)"
   ]
  },
  {
   "cell_type": "markdown",
   "metadata": {},
   "source": [
    "### Model 1, Refined Approach"
   ]
  },
  {
   "cell_type": "code",
   "execution_count": 41,
   "metadata": {},
   "outputs": [
    {
     "name": "stdout",
     "output_type": "stream",
     "text": [
      "quarter 0.0001591879125151241\n",
      "date 0.39746662310429526\n",
      "stock 0.0356942570582075\n",
      "open 0.007622007688205645\n",
      "percent_change_price 0.0008135912343921747\n",
      "percent_change_volume_over_last_wk 6.400561953445738e-06\n",
      "days_to_next_dividend 0.003943368295411309\n",
      "percent_return_next_dividend 0.002569124016218116\n",
      "top predictor: ['date', 0.39746662310429526]\n"
     ]
    }
   ],
   "source": [
    "#MLR with forward-stepwise refinement:\n",
    "var_lst = ['quarter', 'date', 'stock', 'open', 'percent_change_price', 'percent_change_volume_over_last_wk', 'days_to_next_dividend',\n",
    "           'percent_return_next_dividend']\n",
    "\n",
    "#Examining R^2:\n",
    "top_pred = ['',0]\n",
    "for pred in var_lst:\n",
    "    mod  = smf.ols(formula='percent_change_next_weeks_price~' + pred, data=df_train).fit()\n",
    "    print(pred, mod.rsquared)\n",
    "    if mod.rsquared>top_pred[1]:\n",
    "        top_pred = [pred, mod.rsquared]\n",
    "print('top predictor:',top_pred)"
   ]
  },
  {
   "cell_type": "markdown",
   "metadata": {},
   "source": [
    "**Analysis of Model 1, Refined Approach:**\n",
    "\n",
    "That's a little better, although other than 'date' there still aren't any convincing predictors."
   ]
  },
  {
   "cell_type": "markdown",
   "metadata": {},
   "source": [
    "## Model 2, Refined Approach: Random-Forest Regression with a Larger Training Set"
   ]
  },
  {
   "cell_type": "code",
   "execution_count": 42,
   "metadata": {},
   "outputs": [
    {
     "name": "stderr",
     "output_type": "stream",
     "text": [
      "<ipython-input-42-a25b7155b1c8>:1: SettingWithCopyWarning: \n",
      "A value is trying to be set on a copy of a slice from a DataFrame.\n",
      "Try using .loc[row_indexer,col_indexer] = value instead\n",
      "\n",
      "See the caveats in the documentation: https://pandas.pydata.org/pandas-docs/stable/user_guide/indexing.html#returning-a-view-versus-a-copy\n",
      "  df_train['date'] = df_train['date'].astype('category')\n"
     ]
    }
   ],
   "source": [
    "df_train['date'] = df_train['date'].astype('category')\n",
    "X = df_train.drop(['stock', 'percent_change_next_weeks_price'], axis = 1)\n",
    "y = df_train['percent_change_next_weeks_price']"
   ]
  },
  {
   "cell_type": "code",
   "execution_count": 43,
   "metadata": {},
   "outputs": [
    {
     "data": {
      "text/plain": [
       "Text(0, 0.5, 'RMSE')"
      ]
     },
     "execution_count": 43,
     "metadata": {},
     "output_type": "execute_result"
    },
    {
     "data": {
      "image/png": "[encoded data removed]",
      "text/plain": [
       "<Figure size 432x288 with 1 Axes>"
      ]
     },
     "metadata": {
      "needs_background": "light"
     },
     "output_type": "display_data"
    }
   ],
   "source": [
    "rmse_vals = []\n",
    "for i in range(1, 41, 1):\n",
    "    reg = RandomForestRegressor(n_estimators = i, random_state = 42)\n",
    "    reg.fit(X, y)\n",
    "    ytrain_pred = reg.predict(X)\n",
    "    rmse_met = mean_squared_error(ytrain_pred, y, squared = False)\n",
    "    rmse_vals.append(rmse_met)\n",
    "\n",
    "plt.plot(range(1, 41, 1), rmse_vals)\n",
    "plt.title('RMSE by Number of Estimators')\n",
    "plt.xlabel('Estimators')\n",
    "plt.ylabel('RMSE')"
   ]
  },
  {
   "cell_type": "code",
   "execution_count": 44,
   "metadata": {},
   "outputs": [
    {
     "data": {
      "text/plain": [
       "0.9081410194646273"
      ]
     },
     "execution_count": 44,
     "metadata": {},
     "output_type": "execute_result"
    }
   ],
   "source": [
    "min(rmse_vals)"
   ]
  },
  {
   "cell_type": "markdown",
   "metadata": {},
   "source": [
    "**Analysis of Model 2, Refined Approach:**\n",
    "\n",
    "Still not much better; no real need to test it as the goal was to find an improvement, which didn't happen with the training data."
   ]
  },
  {
   "cell_type": "markdown",
   "metadata": {},
   "source": [
    "### Model 2, Classification Approach\n",
    "\n",
    "Random forests can also be used for classification; perhaps with the classification version of this problem, a random forest model might yield benefits?"
   ]
  },
  {
   "cell_type": "code",
   "execution_count": 46,
   "metadata": {},
   "outputs": [],
   "source": [
    "from sklearn.ensemble import RandomForestClassifier"
   ]
  },
  {
   "cell_type": "code",
   "execution_count": 47,
   "metadata": {},
   "outputs": [
    {
     "name": "stderr",
     "output_type": "stream",
     "text": [
      "<ipython-input-47-29b8e74c82d5>:1: SettingWithCopyWarning: \n",
      "A value is trying to be set on a copy of a slice from a DataFrame.\n",
      "Try using .loc[row_indexer,col_indexer] = value instead\n",
      "\n",
      "See the caveats in the documentation: https://pandas.pydata.org/pandas-docs/stable/user_guide/indexing.html#returning-a-view-versus-a-copy\n",
      "  df_train['next_weeks_direction'] = (df_train['percent_change_next_weeks_price'] > 0).astype('int')\n",
      "<ipython-input-47-29b8e74c82d5>:2: SettingWithCopyWarning: \n",
      "A value is trying to be set on a copy of a slice from a DataFrame.\n",
      "Try using .loc[row_indexer,col_indexer] = value instead\n",
      "\n",
      "See the caveats in the documentation: https://pandas.pydata.org/pandas-docs/stable/user_guide/indexing.html#returning-a-view-versus-a-copy\n",
      "  df_test['next_weeks_direction'] = (df_test['percent_change_next_weeks_price'] > 0).astype('int')\n"
     ]
    }
   ],
   "source": [
    "df_train['next_weeks_direction'] = (df_train['percent_change_next_weeks_price'] > 0).astype('int')\n",
    "df_test['next_weeks_direction'] = (df_test['percent_change_next_weeks_price'] > 0).astype('int')"
   ]
  },
  {
   "cell_type": "code",
   "execution_count": null,
   "metadata": {},
   "outputs": [],
   "source": [
    "#Changing the date variable to 'category' to enable analysis"
   ]
  },
  {
   "cell_type": "code",
   "execution_count": 74,
   "metadata": {},
   "outputs": [],
   "source": [
    "X_test['date'] = X_test['date'].astype('category')"
   ]
  },
  {
   "cell_type": "code",
   "execution_count": 72,
   "metadata": {},
   "outputs": [
    {
     "name": "stdout",
     "output_type": "stream",
     "text": [
      "accuracy is: 1.0\n",
      "recall is: 1.0\n",
      "precision is: 1.0\n"
     ]
    }
   ],
   "source": [
    "#choosing 100 learners, which is the default argument\n",
    "\n",
    "X_train = df_train.drop(['stock', 'percent_change_next_weeks_price', 'next_weeks_direction'], axis = 1)\n",
    "y_train = df_train['next_weeks_direction']\n",
    "\n",
    "X_test = df_test.drop(['stock', 'percent_change_next_weeks_price', 'next_weeks_direction'], axis = 1)\n",
    "y_test = df_test['next_weeks_direction']\n",
    "\n",
    "rf_class = RandomForestClassifier()\n",
    "rf_class.fit(X_train, y_train)\n",
    "ytrain_pred = rf_class.predict(X_train)\n",
    "print('accuracy is:', accuracy_score(ytrain_pred, y_train))\n",
    "print('recall is:', recall_score(ytrain_pred, y_train))\n",
    "print('precision is:', precision_score(ytrain_pred, y_train))\n"
   ]
  },
  {
   "cell_type": "markdown",
   "metadata": {},
   "source": [
    "This looks encouraging; I'll try it on the test data."
   ]
  },
  {
   "cell_type": "code",
   "execution_count": 76,
   "metadata": {},
   "outputs": [
    {
     "name": "stdout",
     "output_type": "stream",
     "text": [
      "accuracy is: 0.6180555555555556\n",
      "recall is: 0.6027397260273972\n",
      "precision is: 0.6285714285714286\n"
     ]
    }
   ],
   "source": [
    "ytest_pred = rf_class.predict(X_test)\n",
    "print('accuracy is:', accuracy_score(ytest_pred, y_test))\n",
    "print('recall is:', recall_score(ytest_pred, y_test))\n",
    "print('precision is:', precision_score(ytest_pred, y_test))\n"
   ]
  },
  {
   "cell_type": "markdown",
   "metadata": {},
   "source": [
    "**Analysis of Model 3, Classification Approach:**\n",
    "\n",
    "That certainly represented an improvement. The high **variance** and low **bias** of the decision trees was balanced by the ensemble that the random-forest method enabled, providing an improvement in accuracy, recall, and precision. So far this is the best approach for modeling the data. I'd like to test the logistic regression model next (with the new balance of training and testing data) to see which method is best."
   ]
  },
  {
   "cell_type": "code",
   "execution_count": 77,
   "metadata": {},
   "outputs": [],
   "source": [
    "X2 = df_train.drop(['stock', 'percent_change_next_weeks_price', 'next_weeks_direction'], axis = 1)\n",
    "y2 = df_train['next_weeks_direction']\n",
    "\n",
    "log_reg = LogisticRegression(solver = 'liblinear').fit(X2, y2)"
   ]
  },
  {
   "cell_type": "code",
   "execution_count": 78,
   "metadata": {},
   "outputs": [],
   "source": [
    "logreg_pred2 = log_reg.predict(X2)"
   ]
  },
  {
   "cell_type": "code",
   "execution_count": 79,
   "metadata": {},
   "outputs": [
    {
     "name": "stdout",
     "output_type": "stream",
     "text": [
      "accuracy is: 0.5069444444444444\n",
      "recall is: 1.0\n",
      "precision is: 0.5069444444444444\n"
     ]
    }
   ],
   "source": [
    "#Checking with training data\n",
    "print('accuracy is:', accuracy_score(y2, logreg_pred2))\n",
    "print('recall is:', recall_score(y2, logreg_pred2))\n",
    "print('precision is:', precision_score(y2, logreg_pred2))"
   ]
  },
  {
   "cell_type": "markdown",
   "metadata": {},
   "source": [
    "**Analysis of Model 3, Refined Approach:**\n",
    "\n",
    "Logistic regression was inferior to random-forest classification."
   ]
  },
  {
   "cell_type": "markdown",
   "metadata": {},
   "source": [
    "## Conclusions:\n",
    "\n",
    "This analysis examined multiple methods for modeling stock prices. Much effort has been devoted to modeling and predicting stock prices and financial returns; an entire industry has grown for the purpose of analyzing company fundamentals, forecasting economic headwinds, mitigating risk, and optimizing predictive strategies and tactics. While the analysis conducted here is by no means exhaustive—and seems to call for additional time-series modeling strategies—it did nevertheless yield interesting insight into the inherent noisiness and difficulty of predicting stock returns.\n",
    "\n",
    "Multiple methods were used for both classification and regression. Regression strategies included multiple linear regression with forward stepwise selection (to iterate over the most effective variables for prediction) and random-forest regression. Neither method was especially successful after the first pass; a second pass involved retraining the models on a larger training set that did not differentiate between quarters and therefore potentially captured some of the temporal effects of macroeconomic quarterly trends. The analysis was better after the data were divided a second time into training and testing sets, although the models were still not convincing.\n",
    "\n",
    "This led to a modification of the intended strategy. Precise return targets are not always required when risk is spread across a basket of stocks; in this case, picking ones that will increase or decrease may be useful. This suggested the possible effectiveness of a classification strategy with binary outcomes (i.e., increase vs. no-increase/decrease). The models used for this included random-forest classification and logistic regression. Model performance improved (for both training and testing sets) when the size of the training set was increased and the size of the test set was reduced. The best and most effective model was random-forest classification, which performed excellently on the training data and had higher accuracy, recall, and precision scores on the reevaluated test set. The scores were not as high as I had hoped, however, from which I drew the following conclusions (and intend to implement on different data sets in future):\n",
    "\n",
    "1) For better performance, specific time-series approaches may be required. The methods here attempted to account for timing periods in some way, but more effective methods can be employed;\n",
    "\n",
    "2) In the case of market returns, the company itself—plus the period in which it reports its fundamentals—may be vastly more important than the variables captured here in determining returns during the following week (i.e., directional movement, up or down). The salience of this fact is reflected in the establishment of an entire industry to evaluate company fundamentals and performance;\n",
    "\n",
    "3) The market may be inherently noisy to the extent that accuracy, recall, and precision are strongly limited under even the best cases.\n",
    "\n",
    "\n",
    "It is worth noting that the authors of the original data set ended up using *percent_change_price, percent_change_volume_over_last_wk, days_to_next_dividend,* and *percent_return_next_dividend* for their model. My goal was to find the best combination of variables for the different models I sought to test; combinations of the variables used by the authors of the data set also turned out to be among the most valuable variables in the models that I implemented for this analysis, which suggests their fundamental importance to asset prices and returns."
   ]
  }
 ],
 "metadata": {
  "kernelspec": {
   "display_name": "Python 3",
   "language": "python",
   "name": "python3"
  },
  "language_info": {
   "codemirror_mode": {
    "name": "ipython",
    "version": 3
   },
   "file_extension": ".py",
   "mimetype": "text/x-python",
   "name": "python",
   "nbconvert_exporter": "python",
   "pygments_lexer": "ipython3",
   "version": "3.8.3"
  }
 },
 "nbformat": 4,
 "nbformat_minor": 4
}
